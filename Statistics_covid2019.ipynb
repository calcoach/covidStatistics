{
  "nbformat": 4,
  "nbformat_minor": 0,
  "metadata": {
    "colab": {
      "name": "Statistics covid2019.ipynb",
      "provenance": [],
      "collapsed_sections": [],
      "authorship_tag": "ABX9TyN7Jv0H725GYBEacHaxbpFm",
      "include_colab_link": true
    },
    "kernelspec": {
      "name": "python3",
      "display_name": "Python 3"
    }
  },
  "cells": [
    {
      "cell_type": "markdown",
      "metadata": {
        "id": "view-in-github",
        "colab_type": "text"
      },
      "source": [
        "<a href=\"https://colab.research.google.com/github/calcoach/covidStatistics/blob/master/Statistics_covid2019.ipynb\" target=\"_parent\"><img src=\"https://colab.research.google.com/assets/colab-badge.svg\" alt=\"Open In Colab\"/></a>"
      ]
    },
    {
      "cell_type": "markdown",
      "metadata": {
        "id": "jOXmCsTVZMPu",
        "colab_type": "text"
      },
      "source": [
        "# Estadisticas Covid19 Colombia\n",
        "\n",
        "\n",
        "#Instalar sodapy\n"
      ]
    },
    {
      "cell_type": "code",
      "metadata": {
        "id": "3Df_QnjZTif0",
        "colab_type": "code",
        "colab": {
          "base_uri": "https://localhost:8080/",
          "height": 201
        },
        "outputId": "9a66ce59-840e-480c-87f5-cbc22fd6212a"
      },
      "source": [
        "!pip install sodapy"
      ],
      "execution_count": 1,
      "outputs": [
        {
          "output_type": "stream",
          "text": [
            "Collecting sodapy\n",
            "  Downloading https://files.pythonhosted.org/packages/9e/74/95fb7d45bbe7f1de43caac45d7dd4807ef1e15881564a00eef489a3bb5c6/sodapy-2.1.0-py2.py3-none-any.whl\n",
            "Requirement already satisfied: requests>=2.20.0 in /usr/local/lib/python3.6/dist-packages (from sodapy) (2.23.0)\n",
            "Requirement already satisfied: urllib3!=1.25.0,!=1.25.1,<1.26,>=1.21.1 in /usr/local/lib/python3.6/dist-packages (from requests>=2.20.0->sodapy) (1.24.3)\n",
            "Requirement already satisfied: chardet<4,>=3.0.2 in /usr/local/lib/python3.6/dist-packages (from requests>=2.20.0->sodapy) (3.0.4)\n",
            "Requirement already satisfied: idna<3,>=2.5 in /usr/local/lib/python3.6/dist-packages (from requests>=2.20.0->sodapy) (2.10)\n",
            "Requirement already satisfied: certifi>=2017.4.17 in /usr/local/lib/python3.6/dist-packages (from requests>=2.20.0->sodapy) (2020.6.20)\n",
            "Installing collected packages: sodapy\n",
            "Successfully installed sodapy-2.1.0\n"
          ],
          "name": "stdout"
        }
      ]
    },
    {
      "cell_type": "markdown",
      "metadata": {
        "id": "z10cIIk7tlPm",
        "colab_type": "text"
      },
      "source": [
        "#Obtener JSON con la data\n",
        "\n",
        "Llama a la api de datos.gov con el json de datos de casos positivos covid19 \n",
        "\n"
      ]
    },
    {
      "cell_type": "code",
      "metadata": {
        "id": "ZvTgvV2GSmhV",
        "colab_type": "code",
        "colab": {
          "base_uri": "https://localhost:8080/",
          "height": 54
        },
        "outputId": "4559573d-7cf5-4fe6-f67c-dcc76c5e29fd"
      },
      "source": [
        "\n",
        "import pandas as pd\n",
        "from sodapy import Socrata\n",
        "\n",
        "# Unauthenticated client only works with public data sets. Note 'None'\n",
        "# in place of application token, and no username or password:\n",
        "client = Socrata(\"www.datos.gov.co\", None)\n",
        "\n",
        "# Example authenticated client (needed for non-public datasets):\n",
        "# client = Socrata(www.datos.gov.co,\n",
        "#                  MyAppToken,\n",
        "#                  userame=\"user@example.com\",\n",
        "#                  password=\"AFakePassword\")\n",
        "\n",
        "# First 2000 results, returned as JSON from API / converted to Python list of\n",
        "# dictionaries by sodapy.\n",
        "dataset = \"gt2j-8ykr\"\n",
        "count = client.get(dataset,select =\"COUNT(*)\")\n",
        "count = count.pop()\n",
        "limite = count['COUNT']\n",
        "print('Limite: ' + str(limite))\n",
        "\n",
        "results = client.get(dataset, limit = limite)\n",
        "\n",
        "# Convert to pandas DataFrame\n",
        "results_df = pd.DataFrame.from_records(results)"
      ],
      "execution_count": 2,
      "outputs": [
        {
          "output_type": "stream",
          "text": [
            "WARNING:root:Requests made without an app_token will be subject to strict throttling limits.\n"
          ],
          "name": "stderr"
        },
        {
          "output_type": "stream",
          "text": [
            "Limite: 211038\n"
          ],
          "name": "stdout"
        }
      ]
    },
    {
      "cell_type": "markdown",
      "metadata": {
        "id": "bOPIpHWxuZOY",
        "colab_type": "text"
      },
      "source": [
        "Obtiene un sumario de las columnas"
      ]
    },
    {
      "cell_type": "code",
      "metadata": {
        "id": "F3GPB0x3w0NV",
        "colab_type": "code",
        "colab": {
          "base_uri": "https://localhost:8080/",
          "height": 205
        },
        "outputId": "cccf7507-286d-4b98-c25f-7214065deed7"
      },
      "source": [
        "#results_df.count()\n",
        "results_df.describe()"
      ],
      "execution_count": 3,
      "outputs": [
        {
          "output_type": "execute_result",
          "data": {
            "text/html": [
              "<div>\n",
              "<style scoped>\n",
              "    .dataframe tbody tr th:only-of-type {\n",
              "        vertical-align: middle;\n",
              "    }\n",
              "\n",
              "    .dataframe tbody tr th {\n",
              "        vertical-align: top;\n",
              "    }\n",
              "\n",
              "    .dataframe thead th {\n",
              "        text-align: right;\n",
              "    }\n",
              "</style>\n",
              "<table border=\"1\" class=\"dataframe\">\n",
              "  <thead>\n",
              "    <tr style=\"text-align: right;\">\n",
              "      <th></th>\n",
              "      <th>id_de_caso</th>\n",
              "      <th>fecha_de_notificaci_n</th>\n",
              "      <th>c_digo_divipola</th>\n",
              "      <th>ciudad_de_ubicaci_n</th>\n",
              "      <th>departamento</th>\n",
              "      <th>atenci_n</th>\n",
              "      <th>edad</th>\n",
              "      <th>sexo</th>\n",
              "      <th>tipo</th>\n",
              "      <th>estado</th>\n",
              "      <th>pa_s_de_procedencia</th>\n",
              "      <th>fis</th>\n",
              "      <th>fecha_diagnostico</th>\n",
              "      <th>fecha_recuperado</th>\n",
              "      <th>fecha_reporte_web</th>\n",
              "      <th>tipo_recuperaci_n</th>\n",
              "      <th>codigo_departamento</th>\n",
              "      <th>codigo_pais</th>\n",
              "      <th>pertenencia_etnica</th>\n",
              "      <th>nombre_grupo_etnico</th>\n",
              "      <th>fecha_de_muerte</th>\n",
              "    </tr>\n",
              "  </thead>\n",
              "  <tbody>\n",
              "    <tr>\n",
              "      <th>count</th>\n",
              "      <td>211038</td>\n",
              "      <td>211038</td>\n",
              "      <td>211038</td>\n",
              "      <td>211038</td>\n",
              "      <td>211038</td>\n",
              "      <td>211038</td>\n",
              "      <td>211038</td>\n",
              "      <td>211038</td>\n",
              "      <td>211038</td>\n",
              "      <td>211038</td>\n",
              "      <td>953</td>\n",
              "      <td>211038</td>\n",
              "      <td>207274</td>\n",
              "      <td>98840</td>\n",
              "      <td>211038</td>\n",
              "      <td>98840</td>\n",
              "      <td>211038</td>\n",
              "      <td>875</td>\n",
              "      <td>85068</td>\n",
              "      <td>2748</td>\n",
              "      <td>7391</td>\n",
              "    </tr>\n",
              "    <tr>\n",
              "      <th>unique</th>\n",
              "      <td>211038</td>\n",
              "      <td>140</td>\n",
              "      <td>802</td>\n",
              "      <td>753</td>\n",
              "      <td>37</td>\n",
              "      <td>6</td>\n",
              "      <td>107</td>\n",
              "      <td>4</td>\n",
              "      <td>3</td>\n",
              "      <td>6</td>\n",
              "      <td>47</td>\n",
              "      <td>148</td>\n",
              "      <td>136</td>\n",
              "      <td>129</td>\n",
              "      <td>135</td>\n",
              "      <td>2</td>\n",
              "      <td>33</td>\n",
              "      <td>39</td>\n",
              "      <td>6</td>\n",
              "      <td>60</td>\n",
              "      <td>123</td>\n",
              "    </tr>\n",
              "    <tr>\n",
              "      <th>top</th>\n",
              "      <td>205806</td>\n",
              "      <td>2020-07-03T00:00:00.000</td>\n",
              "      <td>11001</td>\n",
              "      <td>Bogotá D.C.</td>\n",
              "      <td>Bogotá D.C.</td>\n",
              "      <td>Recuperado</td>\n",
              "      <td>30</td>\n",
              "      <td>M</td>\n",
              "      <td>En estudio</td>\n",
              "      <td>Leve</td>\n",
              "      <td>ESPAÑA</td>\n",
              "      <td>Asintomático</td>\n",
              "      <td>2020-07-14T00:00:00.000</td>\n",
              "      <td>2020-07-19T00:00:00.000</td>\n",
              "      <td>2020-07-17T00:00:00.000</td>\n",
              "      <td>Tiempo</td>\n",
              "      <td>11</td>\n",
              "      <td>724</td>\n",
              "      <td>Otro</td>\n",
              "      <td>Por Definir</td>\n",
              "      <td>2020-07-13T00:00:00.000</td>\n",
              "    </tr>\n",
              "    <tr>\n",
              "      <th>freq</th>\n",
              "      <td>1</td>\n",
              "      <td>6447</td>\n",
              "      <td>67843</td>\n",
              "      <td>67843</td>\n",
              "      <td>67843</td>\n",
              "      <td>98840</td>\n",
              "      <td>5752</td>\n",
              "      <td>113018</td>\n",
              "      <td>192303</td>\n",
              "      <td>161665</td>\n",
              "      <td>264</td>\n",
              "      <td>28200</td>\n",
              "      <td>7588</td>\n",
              "      <td>4978</td>\n",
              "      <td>8934</td>\n",
              "      <td>54812</td>\n",
              "      <td>67843</td>\n",
              "      <td>259</td>\n",
              "      <td>71667</td>\n",
              "      <td>824</td>\n",
              "      <td>196</td>\n",
              "    </tr>\n",
              "  </tbody>\n",
              "</table>\n",
              "</div>"
            ],
            "text/plain": [
              "       id_de_caso  ...          fecha_de_muerte\n",
              "count      211038  ...                     7391\n",
              "unique     211038  ...                      123\n",
              "top        205806  ...  2020-07-13T00:00:00.000\n",
              "freq            1  ...                      196\n",
              "\n",
              "[4 rows x 21 columns]"
            ]
          },
          "metadata": {
            "tags": []
          },
          "execution_count": 3
        }
      ]
    },
    {
      "cell_type": "code",
      "metadata": {
        "id": "bExzqpg1W2F4",
        "colab_type": "code",
        "colab": {
          "base_uri": "https://localhost:8080/",
          "height": 235
        },
        "outputId": "457becdf-dcba-45ba-d770-bd4b2f603c22"
      },
      "source": [
        " #condition = results_df[results_df['estado'] == \"Leve\"]\n",
        " #print(condition.count)\n",
        "import math\n",
        "def truncate(number, digits) -> float:\n",
        "    stepper = 10.0 ** digits\n",
        "    return math.trunc(stepper * number) / stepper\n",
        "\n",
        "total = len(results_df.index)\n",
        "estados = pd.unique(results_df['estado'])\n",
        "\n",
        "for estado in estados:\n",
        "  #print(estado + \": \" + str((results_df.estado == estado).sum())  )\n",
        "  num = (results_df.estado == estado).sum()\n",
        "  per = truncate((num * 100)/total,2)\n",
        "  print('{}: {} {}%'.format(estado,num, per))\n",
        "\n",
        "print(\"Total: \"+ str(total))\n",
        "\n",
        "print('\\n')\n",
        "\n",
        "print(\"Norte de Santander: \"+str((results_df.departamento =='Norte de Santander').sum()))\n",
        "print(\"Barranquilla: \"+str((results_df.departamento =='Barranquilla D.E.').sum()))\n",
        "print(\"Atlantico: \"+str((results_df.departamento == \"Atlantico\").sum()))\n",
        " \n",
        "\n"
      ],
      "execution_count": 4,
      "outputs": [
        {
          "output_type": "stream",
          "text": [
            "Leve: 161665 76.6%\n",
            "Asintomático: 28200 13.36%\n",
            "Fallecido: 7166 3.39%\n",
            "Moderado: 12148 5.75%\n",
            "Grave: 1440 0.68%\n",
            "N/A: 419 0.19%\n",
            "Total: 211038\n",
            "\n",
            "\n",
            "Norte de Santander: 941\n",
            "Barranquilla: 26054\n",
            "Atlantico: 0\n"
          ],
          "name": "stdout"
        }
      ]
    },
    {
      "cell_type": "markdown",
      "metadata": {
        "id": "NzPhSUv8dEM7",
        "colab_type": "text"
      },
      "source": [
        "# Grafica de Estado de los contagiados\n",
        "\n",
        "Se genera una grafica piechart con los estados de los infectados de covid. "
      ]
    },
    {
      "cell_type": "code",
      "metadata": {
        "id": "d4uRsYMpei0b",
        "colab_type": "code",
        "colab": {
          "base_uri": "https://localhost:8080/",
          "height": 684
        },
        "outputId": "55e65bf5-6b91-4df0-c444-39d43767808b"
      },
      "source": [
        "import matplotlib.pyplot as plt\n",
        "import numpy as np\n",
        "\n",
        "def func(label, pct, allvalues): \n",
        "    absolute = pct * 100/np.sum(allvalues)\n",
        "    return \"{}\\n{}%\".format(label, truncate(absolute,2)) \n",
        "\n",
        "explode = (0.0, 0.0, 0.1, 0.1, 0.1, 0.1) \n",
        "labels = pd.unique(results_df['estado'])\n",
        "labels_with_percentage = []\n",
        "\n",
        "estados = []\n",
        "\n",
        "for label in labels:\n",
        "  sum = (results_df.estado == label).sum()\n",
        "  estados.append(sum)\n",
        "\n",
        "for (label, estado) in zip(labels,estados):\n",
        "    labels_with_percentage.append(func(label, estado, estados))\n",
        "\n",
        "fig, ax = plt.subplots(figsize = (10, 7)) \n",
        "\n",
        "ax.pie(estados, explode=explode, labels=labels,  startangle=180)\n",
        "\n",
        "plt.axis('equal') # Try commenting this out.\n",
        "plt.title('Estado Contagiados Covid En Colombia')\n",
        "plt.legend(labels_with_percentage, loc='left center', bbox_to_anchor=(-0.1, 1.),\n",
        "              fontsize=12)\n",
        "\n",
        "plt.show()"
      ],
      "execution_count": 5,
      "outputs": [
        {
          "output_type": "stream",
          "text": [
            "/usr/local/lib/python3.6/dist-packages/ipykernel_launcher.py:28: MatplotlibDeprecationWarning: Unrecognized location 'left center'. Falling back on 'best'; valid locations are\n",
            "\tbest\n",
            "\tupper right\n",
            "\tupper left\n",
            "\tlower left\n",
            "\tlower right\n",
            "\tright\n",
            "\tcenter left\n",
            "\tcenter right\n",
            "\tlower center\n",
            "\tupper center\n",
            "\tcenter\n",
            "This will raise an exception in 3.3.\n"
          ],
          "name": "stderr"
        },
        {
          "output_type": "display_data",
          "data": {
            "image/png": "[encoded data removed]",
            "text/plain": [
              "<Figure size 720x504 with 1 Axes>"
            ]
          },
          "metadata": {
            "tags": []
          }
        }
      ]
    },
    {
      "cell_type": "markdown",
      "metadata": {
        "id": "Uek7Yd5DRcqZ",
        "colab_type": "text"
      },
      "source": [
        "# Fallecidos por Rango de edad"
      ]
    },
    {
      "cell_type": "code",
      "metadata": {
        "id": "uqL6BIfpanTn",
        "colab_type": "code",
        "colab": {
          "base_uri": "https://localhost:8080/",
          "height": 333
        },
        "outputId": "d3abc8fc-2360-46bf-a592-c0fe7118a0ca"
      },
      "source": [
        "results_df['edad']=results_df['edad'].astype('int')\n",
        "fallecidos = results_df[results_df.estado == 'Fallecido']\n",
        "\n",
        "bins = [0,10,20,30,40,50,60,70,80,90,100]\n",
        "rangos = fallecidos.groupby(pd.cut(fallecidos['edad'], bins=bins)).edad.count()\n",
        "rangos.plot(kind='bar')"
      ],
      "execution_count": 6,
      "outputs": [
        {
          "output_type": "execute_result",
          "data": {
            "text/plain": [
              "<matplotlib.axes._subplots.AxesSubplot at 0x7f4d7fae8dd8>"
            ]
          },
          "metadata": {
            "tags": []
          },
          "execution_count": 6
        },
        {
          "output_type": "display_data",
          "data": {
            "image/png": "[encoded data removed]",
            "text/plain": [
              "<Figure size 432x288 with 1 Axes>"
            ]
          },
          "metadata": {
            "tags": [],
            "needs_background": "light"
          }
        }
      ]
    },
    {
      "cell_type": "markdown",
      "metadata": {
        "id": "3EtMaVt8RySF",
        "colab_type": "text"
      },
      "source": [
        "#Buscar porcentaje de fallecimientos por edad\n"
      ]
    },
    {
      "cell_type": "code",
      "metadata": {
        "id": "O9whmYiGHH4b",
        "colab_type": "code",
        "colab": {
          "base_uri": "https://localhost:8080/",
          "height": 35
        },
        "outputId": "3b032f6f-97e8-4a0f-a04e-a5092e03a494"
      },
      "source": [
        "edad = 22\n",
        "youns = results_df[results_df.edad == edad] \n",
        "\n",
        "total_youns = len(youns.index)\n",
        "\n",
        "deads = (youns.estado == 'Fallecido').sum()\n",
        "\n",
        "print('Las personas infectadas de {} años son {} y los fallecidos {} con un porcentaje de muerte de: {} % '.format(edad,total_youns, deads, (deads*100/\n",
        "                                                                                                                                total_youns)))"
      ],
      "execution_count": 7,
      "outputs": [
        {
          "output_type": "stream",
          "text": [
            "Las personas infectadas de 22 años son 3820 y los fallecidos 6 con un porcentaje de muerte de: 0.15706806282722513 % \n"
          ],
          "name": "stdout"
        }
      ]
    },
    {
      "cell_type": "markdown",
      "metadata": {
        "id": "dHeJfmC6SI76",
        "colab_type": "text"
      },
      "source": [
        "#Fallecidos por departamento"
      ]
    },
    {
      "cell_type": "code",
      "metadata": {
        "id": "96AzzGIDSN8K",
        "colab_type": "code",
        "colab": {
          "base_uri": "https://localhost:8080/",
          "height": 1000
        },
        "outputId": "db8ab04e-402a-4885-ed25-04230fc98bc3"
      },
      "source": [
        "contagiados = results_df.groupby(['departamento']).size().reset_index(name = \"contagiados\")\n",
        "\n",
        "departamentos = fallecidos.groupby(['departamento']).size().reset_index(name = \"fallecidos\")\n",
        "\n",
        "#print(departamentos)\n",
        "\n",
        "#departamentos.plot.bar(x='departamento', y='fallecidos')\n",
        "\n",
        "#contagiados['fallecidos'] = departamentos['fallecidos']\n",
        "departamentos['% fallecidos nacional'] = departamentos['fallecidos']*100/(len(fallecidos))\n",
        "\n",
        "contagiados = pd.merge(contagiados, departamentos, on='departamento', how='outer')\n",
        "contagiados = contagiados.sort_values('contagiados',ascending=False)\n",
        "\n",
        "#adjust index\n",
        "contagiados.index = range(contagiados.shape[0])\n",
        "#index satrt in 1\n",
        "contagiados.index +=1\n",
        "\n",
        "print(len(contagiados))\n",
        "contagiados\n",
        "\n",
        "\n"
      ],
      "execution_count": 51,
      "outputs": [
        {
          "output_type": "stream",
          "text": [
            "37\n"
          ],
          "name": "stdout"
        },
        {
          "output_type": "execute_result",
          "data": {
            "text/html": [
              "<div>\n",
              "<style scoped>\n",
              "    .dataframe tbody tr th:only-of-type {\n",
              "        vertical-align: middle;\n",
              "    }\n",
              "\n",
              "    .dataframe tbody tr th {\n",
              "        vertical-align: top;\n",
              "    }\n",
              "\n",
              "    .dataframe thead th {\n",
              "        text-align: right;\n",
              "    }\n",
              "</style>\n",
              "<table border=\"1\" class=\"dataframe\">\n",
              "  <thead>\n",
              "    <tr style=\"text-align: right;\">\n",
              "      <th></th>\n",
              "      <th>departamento</th>\n",
              "      <th>contagiados</th>\n",
              "      <th>fallecidos</th>\n",
              "      <th>% fallecidos nacional</th>\n",
              "    </tr>\n",
              "  </thead>\n",
              "  <tbody>\n",
              "    <tr>\n",
              "      <th>1</th>\n",
              "      <td>Bogotá D.C.</td>\n",
              "      <td>67843</td>\n",
              "      <td>1713.0</td>\n",
              "      <td>23.904549</td>\n",
              "    </tr>\n",
              "    <tr>\n",
              "      <th>2</th>\n",
              "      <td>Barranquilla D.E.</td>\n",
              "      <td>26054</td>\n",
              "      <td>1325.0</td>\n",
              "      <td>18.490092</td>\n",
              "    </tr>\n",
              "    <tr>\n",
              "      <th>3</th>\n",
              "      <td>Atlántico</td>\n",
              "      <td>19432</td>\n",
              "      <td>916.0</td>\n",
              "      <td>12.782584</td>\n",
              "    </tr>\n",
              "    <tr>\n",
              "      <th>4</th>\n",
              "      <td>Antioquia</td>\n",
              "      <td>18690</td>\n",
              "      <td>222.0</td>\n",
              "      <td>3.097963</td>\n",
              "    </tr>\n",
              "    <tr>\n",
              "      <th>5</th>\n",
              "      <td>Valle del Cauca</td>\n",
              "      <td>16516</td>\n",
              "      <td>572.0</td>\n",
              "      <td>7.982138</td>\n",
              "    </tr>\n",
              "    <tr>\n",
              "      <th>6</th>\n",
              "      <td>Cartagena D.T. y C.</td>\n",
              "      <td>13703</td>\n",
              "      <td>425.0</td>\n",
              "      <td>5.930784</td>\n",
              "    </tr>\n",
              "    <tr>\n",
              "      <th>7</th>\n",
              "      <td>Cundinamarca</td>\n",
              "      <td>6153</td>\n",
              "      <td>145.0</td>\n",
              "      <td>2.023444</td>\n",
              "    </tr>\n",
              "    <tr>\n",
              "      <th>8</th>\n",
              "      <td>Nariño</td>\n",
              "      <td>5779</td>\n",
              "      <td>175.0</td>\n",
              "      <td>2.442088</td>\n",
              "    </tr>\n",
              "    <tr>\n",
              "      <th>9</th>\n",
              "      <td>Sucre</td>\n",
              "      <td>4613</td>\n",
              "      <td>247.0</td>\n",
              "      <td>3.446832</td>\n",
              "    </tr>\n",
              "    <tr>\n",
              "      <th>10</th>\n",
              "      <td>Córdoba</td>\n",
              "      <td>2967</td>\n",
              "      <td>338.0</td>\n",
              "      <td>4.716718</td>\n",
              "    </tr>\n",
              "    <tr>\n",
              "      <th>11</th>\n",
              "      <td>Santa Marta D.T. y C.</td>\n",
              "      <td>2848</td>\n",
              "      <td>109.0</td>\n",
              "      <td>1.521072</td>\n",
              "    </tr>\n",
              "    <tr>\n",
              "      <th>12</th>\n",
              "      <td>Chocó</td>\n",
              "      <td>2561</td>\n",
              "      <td>82.0</td>\n",
              "      <td>1.144292</td>\n",
              "    </tr>\n",
              "    <tr>\n",
              "      <th>13</th>\n",
              "      <td>Amazonas</td>\n",
              "      <td>2458</td>\n",
              "      <td>101.0</td>\n",
              "      <td>1.409433</td>\n",
              "    </tr>\n",
              "    <tr>\n",
              "      <th>14</th>\n",
              "      <td>Cesar</td>\n",
              "      <td>2126</td>\n",
              "      <td>41.0</td>\n",
              "      <td>0.572146</td>\n",
              "    </tr>\n",
              "    <tr>\n",
              "      <th>15</th>\n",
              "      <td>Santander</td>\n",
              "      <td>2046</td>\n",
              "      <td>53.0</td>\n",
              "      <td>0.739604</td>\n",
              "    </tr>\n",
              "    <tr>\n",
              "      <th>16</th>\n",
              "      <td>Meta</td>\n",
              "      <td>2010</td>\n",
              "      <td>25.0</td>\n",
              "      <td>0.348870</td>\n",
              "    </tr>\n",
              "    <tr>\n",
              "      <th>17</th>\n",
              "      <td>Buenaventura D.E.</td>\n",
              "      <td>1925</td>\n",
              "      <td>126.0</td>\n",
              "      <td>1.758303</td>\n",
              "    </tr>\n",
              "    <tr>\n",
              "      <th>18</th>\n",
              "      <td>Tolima</td>\n",
              "      <td>1864</td>\n",
              "      <td>33.0</td>\n",
              "      <td>0.460508</td>\n",
              "    </tr>\n",
              "    <tr>\n",
              "      <th>19</th>\n",
              "      <td>Bolívar</td>\n",
              "      <td>1806</td>\n",
              "      <td>84.0</td>\n",
              "      <td>1.172202</td>\n",
              "    </tr>\n",
              "    <tr>\n",
              "      <th>20</th>\n",
              "      <td>Magdalena</td>\n",
              "      <td>1658</td>\n",
              "      <td>168.0</td>\n",
              "      <td>2.344404</td>\n",
              "    </tr>\n",
              "    <tr>\n",
              "      <th>21</th>\n",
              "      <td>La Guajira</td>\n",
              "      <td>1615</td>\n",
              "      <td>88.0</td>\n",
              "      <td>1.228021</td>\n",
              "    </tr>\n",
              "    <tr>\n",
              "      <th>22</th>\n",
              "      <td>Cauca</td>\n",
              "      <td>1175</td>\n",
              "      <td>36.0</td>\n",
              "      <td>0.502372</td>\n",
              "    </tr>\n",
              "    <tr>\n",
              "      <th>23</th>\n",
              "      <td>Risaralda</td>\n",
              "      <td>1077</td>\n",
              "      <td>21.0</td>\n",
              "      <td>0.293051</td>\n",
              "    </tr>\n",
              "    <tr>\n",
              "      <th>24</th>\n",
              "      <td>Norte de Santander</td>\n",
              "      <td>941</td>\n",
              "      <td>40.0</td>\n",
              "      <td>0.558191</td>\n",
              "    </tr>\n",
              "    <tr>\n",
              "      <th>25</th>\n",
              "      <td>Boyacá</td>\n",
              "      <td>659</td>\n",
              "      <td>22.0</td>\n",
              "      <td>0.307005</td>\n",
              "    </tr>\n",
              "    <tr>\n",
              "      <th>26</th>\n",
              "      <td>Huila</td>\n",
              "      <td>578</td>\n",
              "      <td>17.0</td>\n",
              "      <td>0.237231</td>\n",
              "    </tr>\n",
              "    <tr>\n",
              "      <th>27</th>\n",
              "      <td>Caquetá</td>\n",
              "      <td>450</td>\n",
              "      <td>7.0</td>\n",
              "      <td>0.097684</td>\n",
              "    </tr>\n",
              "    <tr>\n",
              "      <th>28</th>\n",
              "      <td>Caldas</td>\n",
              "      <td>417</td>\n",
              "      <td>7.0</td>\n",
              "      <td>0.097684</td>\n",
              "    </tr>\n",
              "    <tr>\n",
              "      <th>29</th>\n",
              "      <td>Putumayo</td>\n",
              "      <td>346</td>\n",
              "      <td>17.0</td>\n",
              "      <td>0.237231</td>\n",
              "    </tr>\n",
              "    <tr>\n",
              "      <th>30</th>\n",
              "      <td>Quindío</td>\n",
              "      <td>215</td>\n",
              "      <td>6.0</td>\n",
              "      <td>0.083729</td>\n",
              "    </tr>\n",
              "    <tr>\n",
              "      <th>31</th>\n",
              "      <td>Casanare</td>\n",
              "      <td>185</td>\n",
              "      <td>2.0</td>\n",
              "      <td>0.027910</td>\n",
              "    </tr>\n",
              "    <tr>\n",
              "      <th>32</th>\n",
              "      <td>Arauca</td>\n",
              "      <td>171</td>\n",
              "      <td>1.0</td>\n",
              "      <td>0.013955</td>\n",
              "    </tr>\n",
              "    <tr>\n",
              "      <th>33</th>\n",
              "      <td>Vaupés</td>\n",
              "      <td>61</td>\n",
              "      <td>1.0</td>\n",
              "      <td>0.013955</td>\n",
              "    </tr>\n",
              "    <tr>\n",
              "      <th>34</th>\n",
              "      <td>Guaviare</td>\n",
              "      <td>50</td>\n",
              "      <td>NaN</td>\n",
              "      <td>NaN</td>\n",
              "    </tr>\n",
              "    <tr>\n",
              "      <th>35</th>\n",
              "      <td>Archipiélago de San Andrés Providencia y Santa...</td>\n",
              "      <td>30</td>\n",
              "      <td>NaN</td>\n",
              "      <td>NaN</td>\n",
              "    </tr>\n",
              "    <tr>\n",
              "      <th>36</th>\n",
              "      <td>Guainía</td>\n",
              "      <td>14</td>\n",
              "      <td>1.0</td>\n",
              "      <td>0.013955</td>\n",
              "    </tr>\n",
              "    <tr>\n",
              "      <th>37</th>\n",
              "      <td>Vichada</td>\n",
              "      <td>2</td>\n",
              "      <td>NaN</td>\n",
              "      <td>NaN</td>\n",
              "    </tr>\n",
              "  </tbody>\n",
              "</table>\n",
              "</div>"
            ],
            "text/plain": [
              "                                         departamento  ...  % fallecidos nacional\n",
              "1                                         Bogotá D.C.  ...              23.904549\n",
              "2                                   Barranquilla D.E.  ...              18.490092\n",
              "3                                           Atlántico  ...              12.782584\n",
              "4                                           Antioquia  ...               3.097963\n",
              "5                                     Valle del Cauca  ...               7.982138\n",
              "6                                 Cartagena D.T. y C.  ...               5.930784\n",
              "7                                        Cundinamarca  ...               2.023444\n",
              "8                                              Nariño  ...               2.442088\n",
              "9                                               Sucre  ...               3.446832\n",
              "10                                            Córdoba  ...               4.716718\n",
              "11                              Santa Marta D.T. y C.  ...               1.521072\n",
              "12                                              Chocó  ...               1.144292\n",
              "13                                           Amazonas  ...               1.409433\n",
              "14                                              Cesar  ...               0.572146\n",
              "15                                          Santander  ...               0.739604\n",
              "16                                               Meta  ...               0.348870\n",
              "17                                  Buenaventura D.E.  ...               1.758303\n",
              "18                                             Tolima  ...               0.460508\n",
              "19                                            Bolívar  ...               1.172202\n",
              "20                                          Magdalena  ...               2.344404\n",
              "21                                         La Guajira  ...               1.228021\n",
              "22                                              Cauca  ...               0.502372\n",
              "23                                          Risaralda  ...               0.293051\n",
              "24                                 Norte de Santander  ...               0.558191\n",
              "25                                             Boyacá  ...               0.307005\n",
              "26                                              Huila  ...               0.237231\n",
              "27                                            Caquetá  ...               0.097684\n",
              "28                                             Caldas  ...               0.097684\n",
              "29                                           Putumayo  ...               0.237231\n",
              "30                                            Quindío  ...               0.083729\n",
              "31                                           Casanare  ...               0.027910\n",
              "32                                             Arauca  ...               0.013955\n",
              "33                                             Vaupés  ...               0.013955\n",
              "34                                           Guaviare  ...                    NaN\n",
              "35  Archipiélago de San Andrés Providencia y Santa...  ...                    NaN\n",
              "36                                            Guainía  ...               0.013955\n",
              "37                                            Vichada  ...                    NaN\n",
              "\n",
              "[37 rows x 4 columns]"
            ]
          },
          "metadata": {
            "tags": []
          },
          "execution_count": 51
        }
      ]
    }
  ]
}
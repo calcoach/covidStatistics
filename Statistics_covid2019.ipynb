{
  "nbformat": 4,
  "nbformat_minor": 0,
  "metadata": {
    "colab": {
      "name": "Statistics covid2019.ipynb",
      "provenance": [],
      "collapsed_sections": [],
      "authorship_tag": "ABX9TyM0nr/QWFd1pFgk7ZmG2xAs",
      "include_colab_link": true
    },
    "kernelspec": {
      "name": "python3",
      "display_name": "Python 3"
    }
  },
  "cells": [
    {
      "cell_type": "markdown",
      "metadata": {
        "id": "view-in-github",
        "colab_type": "text"
      },
      "source": [
        "<a href=\"https://colab.research.google.com/github/calcoach/covidStatistics/blob/master/Statistics_covid2019.ipynb\" target=\"_parent\"><img src=\"https://colab.research.google.com/assets/colab-badge.svg\" alt=\"Open In Colab\"/></a>"
      ]
    },
    {
      "cell_type": "markdown",
      "metadata": {
        "id": "jOXmCsTVZMPu",
        "colab_type": "text"
      },
      "source": [
        "# Estadisticas Covid19 Colombia\n",
        "\n",
        "\n",
        "#Instalar sodapy\n"
      ]
    },
    {
      "cell_type": "code",
      "metadata": {
        "id": "3Df_QnjZTif0",
        "colab_type": "code",
        "colab": {
          "base_uri": "https://localhost:8080/",
          "height": 146
        },
        "outputId": "b1c9d44d-9f19-49e2-963b-087c758958ea"
      },
      "source": [
        "!pip install sodapy"
      ],
      "execution_count": 3,
      "outputs": [
        {
          "output_type": "stream",
          "text": [
            "Requirement already satisfied: sodapy in /usr/local/lib/python3.6/dist-packages (2.1.0)\n",
            "Requirement already satisfied: requests>=2.20.0 in /usr/local/lib/python3.6/dist-packages (from sodapy) (2.23.0)\n",
            "Requirement already satisfied: certifi>=2017.4.17 in /usr/local/lib/python3.6/dist-packages (from requests>=2.20.0->sodapy) (2020.6.20)\n",
            "Requirement already satisfied: urllib3!=1.25.0,!=1.25.1,<1.26,>=1.21.1 in /usr/local/lib/python3.6/dist-packages (from requests>=2.20.0->sodapy) (1.24.3)\n",
            "Requirement already satisfied: chardet<4,>=3.0.2 in /usr/local/lib/python3.6/dist-packages (from requests>=2.20.0->sodapy) (3.0.4)\n",
            "Requirement already satisfied: idna<3,>=2.5 in /usr/local/lib/python3.6/dist-packages (from requests>=2.20.0->sodapy) (2.10)\n"
          ],
          "name": "stdout"
        }
      ]
    },
    {
      "cell_type": "markdown",
      "metadata": {
        "id": "z10cIIk7tlPm",
        "colab_type": "text"
      },
      "source": [
        "#Obtener JSON con la data\n",
        "\n",
        "Llama a la api de datos.gov con el json de datos de casos positivos covid19 \n",
        "\n"
      ]
    },
    {
      "cell_type": "code",
      "metadata": {
        "id": "ZvTgvV2GSmhV",
        "colab_type": "code",
        "colab": {
          "base_uri": "https://localhost:8080/",
          "height": 54
        },
        "outputId": "8c0c6c1d-e997-4d20-f477-7c300b28a624"
      },
      "source": [
        "\n",
        "import pandas as pd\n",
        "from sodapy import Socrata\n",
        "\n",
        "# Unauthenticated client only works with public data sets. Note 'None'\n",
        "# in place of application token, and no username or password:\n",
        "client = Socrata(\"www.datos.gov.co\", None)\n",
        "\n",
        "# Example authenticated client (needed for non-public datasets):\n",
        "# client = Socrata(www.datos.gov.co,\n",
        "#                  MyAppToken,\n",
        "#                  userame=\"user@example.com\",\n",
        "#                  password=\"AFakePassword\")\n",
        "\n",
        "# First 2000 results, returned as JSON from API / converted to Python list of\n",
        "# dictionaries by sodapy.\n",
        "dataset = \"gt2j-8ykr\"\n",
        "count = client.get(dataset,select =\"COUNT(*)\")\n",
        "count = count.pop()\n",
        "limite = count['COUNT']\n",
        "print('Limite: ' + str(limite))\n",
        "\n",
        "results = client.get(dataset, limit = limite)\n",
        "\n",
        "# Convert to pandas DataFrame\n",
        "results_df = pd.DataFrame.from_records(results)"
      ],
      "execution_count": 4,
      "outputs": [
        {
          "output_type": "stream",
          "text": [
            "WARNING:root:Requests made without an app_token will be subject to strict throttling limits.\n"
          ],
          "name": "stderr"
        },
        {
          "output_type": "stream",
          "text": [
            "Limite: 190700\n"
          ],
          "name": "stdout"
        }
      ]
    },
    {
      "cell_type": "markdown",
      "metadata": {
        "id": "bOPIpHWxuZOY",
        "colab_type": "text"
      },
      "source": [
        "Obtiene un sumario de las columnas"
      ]
    },
    {
      "cell_type": "code",
      "metadata": {
        "id": "F3GPB0x3w0NV",
        "colab_type": "code",
        "colab": {
          "base_uri": "https://localhost:8080/",
          "height": 205
        },
        "outputId": "a3357d42-3104-4ac3-fdbc-a46b08007307"
      },
      "source": [
        "#results_df.count()\n",
        "results_df.describe()"
      ],
      "execution_count": 5,
      "outputs": [
        {
          "output_type": "execute_result",
          "data": {
            "text/html": [
              "<div>\n",
              "<style scoped>\n",
              "    .dataframe tbody tr th:only-of-type {\n",
              "        vertical-align: middle;\n",
              "    }\n",
              "\n",
              "    .dataframe tbody tr th {\n",
              "        vertical-align: top;\n",
              "    }\n",
              "\n",
              "    .dataframe thead th {\n",
              "        text-align: right;\n",
              "    }\n",
              "</style>\n",
              "<table border=\"1\" class=\"dataframe\">\n",
              "  <thead>\n",
              "    <tr style=\"text-align: right;\">\n",
              "      <th></th>\n",
              "      <th>id_de_caso</th>\n",
              "      <th>fecha_de_notificaci_n</th>\n",
              "      <th>c_digo_divipola</th>\n",
              "      <th>ciudad_de_ubicaci_n</th>\n",
              "      <th>departamento</th>\n",
              "      <th>atenci_n</th>\n",
              "      <th>edad</th>\n",
              "      <th>sexo</th>\n",
              "      <th>tipo</th>\n",
              "      <th>estado</th>\n",
              "      <th>pa_s_de_procedencia</th>\n",
              "      <th>fis</th>\n",
              "      <th>fecha_diagnostico</th>\n",
              "      <th>fecha_recuperado</th>\n",
              "      <th>fecha_reporte_web</th>\n",
              "      <th>tipo_recuperaci_n</th>\n",
              "      <th>codigo_departamento</th>\n",
              "      <th>codigo_pais</th>\n",
              "      <th>pertenencia_etnica</th>\n",
              "      <th>nombre_grupo_etnico</th>\n",
              "      <th>fecha_de_muerte</th>\n",
              "    </tr>\n",
              "  </thead>\n",
              "  <tbody>\n",
              "    <tr>\n",
              "      <th>count</th>\n",
              "      <td>190700</td>\n",
              "      <td>190700</td>\n",
              "      <td>190700</td>\n",
              "      <td>190700</td>\n",
              "      <td>190700</td>\n",
              "      <td>190700</td>\n",
              "      <td>190700</td>\n",
              "      <td>190700</td>\n",
              "      <td>190700</td>\n",
              "      <td>190700</td>\n",
              "      <td>952</td>\n",
              "      <td>190700</td>\n",
              "      <td>186975</td>\n",
              "      <td>85836</td>\n",
              "      <td>190700</td>\n",
              "      <td>85836</td>\n",
              "      <td>190700</td>\n",
              "      <td>875</td>\n",
              "      <td>85068</td>\n",
              "      <td>2748</td>\n",
              "      <td>6721</td>\n",
              "    </tr>\n",
              "    <tr>\n",
              "      <th>unique</th>\n",
              "      <td>190700</td>\n",
              "      <td>136</td>\n",
              "      <td>783</td>\n",
              "      <td>737</td>\n",
              "      <td>37</td>\n",
              "      <td>6</td>\n",
              "      <td>107</td>\n",
              "      <td>4</td>\n",
              "      <td>3</td>\n",
              "      <td>6</td>\n",
              "      <td>46</td>\n",
              "      <td>1279</td>\n",
              "      <td>132</td>\n",
              "      <td>126</td>\n",
              "      <td>132</td>\n",
              "      <td>2</td>\n",
              "      <td>36</td>\n",
              "      <td>39</td>\n",
              "      <td>6</td>\n",
              "      <td>60</td>\n",
              "      <td>120</td>\n",
              "    </tr>\n",
              "    <tr>\n",
              "      <th>top</th>\n",
              "      <td>116282</td>\n",
              "      <td>2020-07-03T00:00:00.000</td>\n",
              "      <td>11001</td>\n",
              "      <td>Bogotá D.C.</td>\n",
              "      <td>Bogotá D.C.</td>\n",
              "      <td>Casa</td>\n",
              "      <td>30</td>\n",
              "      <td>M</td>\n",
              "      <td>En estudio</td>\n",
              "      <td>Leve</td>\n",
              "      <td>ESPAÑA</td>\n",
              "      <td>Asintomático</td>\n",
              "      <td>2020-07-14T00:00:00.000</td>\n",
              "      <td>2020-07-18T00:00:00.000</td>\n",
              "      <td>2020-07-17T00:00:00.000</td>\n",
              "      <td>Tiempo</td>\n",
              "      <td>11</td>\n",
              "      <td>724</td>\n",
              "      <td>Otro</td>\n",
              "      <td>Por Definir</td>\n",
              "      <td>2020-07-07T00:00:00.000</td>\n",
              "    </tr>\n",
              "    <tr>\n",
              "      <th>freq</th>\n",
              "      <td>1</td>\n",
              "      <td>6128</td>\n",
              "      <td>60394</td>\n",
              "      <td>60394</td>\n",
              "      <td>60394</td>\n",
              "      <td>87121</td>\n",
              "      <td>5224</td>\n",
              "      <td>102298</td>\n",
              "      <td>172590</td>\n",
              "      <td>147016</td>\n",
              "      <td>264</td>\n",
              "      <td>24973</td>\n",
              "      <td>7537</td>\n",
              "      <td>4748</td>\n",
              "      <td>8934</td>\n",
              "      <td>47524</td>\n",
              "      <td>60394</td>\n",
              "      <td>259</td>\n",
              "      <td>71667</td>\n",
              "      <td>824</td>\n",
              "      <td>182</td>\n",
              "    </tr>\n",
              "  </tbody>\n",
              "</table>\n",
              "</div>"
            ],
            "text/plain": [
              "       id_de_caso  ...          fecha_de_muerte\n",
              "count      190700  ...                     6721\n",
              "unique     190700  ...                      120\n",
              "top        116282  ...  2020-07-07T00:00:00.000\n",
              "freq            1  ...                      182\n",
              "\n",
              "[4 rows x 21 columns]"
            ]
          },
          "metadata": {
            "tags": []
          },
          "execution_count": 5
        }
      ]
    },
    {
      "cell_type": "code",
      "metadata": {
        "id": "bExzqpg1W2F4",
        "colab_type": "code",
        "colab": {
          "base_uri": "https://localhost:8080/",
          "height": 235
        },
        "outputId": "86e99bf8-6673-4071-882e-ed6479d955b6"
      },
      "source": [
        " #condition = results_df[results_df['estado'] == \"Leve\"]\n",
        " #print(condition.count)\n",
        "import math\n",
        "def truncate(number, digits) -> float:\n",
        "    stepper = 10.0 ** digits\n",
        "    return math.trunc(stepper * number) / stepper\n",
        "\n",
        "total = len(results_df.index)\n",
        "estados = pd.unique(results_df['estado'])\n",
        "\n",
        "for estado in estados:\n",
        "  #print(estado + \": \" + str((results_df.estado == estado).sum())  )\n",
        "  num = (results_df.estado == estado).sum()\n",
        "  per = truncate((num * 100)/total,2)\n",
        "  print('{}: {} {}%'.format(estado,num, per))\n",
        "\n",
        "print(\"Total: \"+ str(total))\n",
        "\n",
        "print('\\n')\n",
        "\n",
        "print(\"Norte de Santander: \"+str((results_df.departamento =='Norte de Santander').sum()))\n",
        "print(\"Barranquilla: \"+str((results_df.departamento =='Barranquilla D.E.').sum()))\n",
        "print(\"Atlantico: \"+str((results_df.departamento == \"Atlantico\").sum()))\n",
        " \n",
        "\n"
      ],
      "execution_count": 6,
      "outputs": [
        {
          "output_type": "stream",
          "text": [
            "Leve: 147016 77.09%\n",
            "Asintomático: 24973 13.09%\n",
            "Fallecido: 6516 3.41%\n",
            "Moderado: 10733 5.62%\n",
            "Grave: 1064 0.55%\n",
            "N/A: 398 0.2%\n",
            "Total: 190700\n",
            "\n",
            "\n",
            "Norte de Santander: 790\n",
            "Barranquilla: 24703\n",
            "Atlantico: 0\n"
          ],
          "name": "stdout"
        }
      ]
    },
    {
      "cell_type": "markdown",
      "metadata": {
        "id": "NzPhSUv8dEM7",
        "colab_type": "text"
      },
      "source": [
        "# Grafica de Estados\n",
        "\n",
        "Se genera una grafica pichart con los estados de los infectados de covid"
      ]
    },
    {
      "cell_type": "code",
      "metadata": {
        "id": "d4uRsYMpei0b",
        "colab_type": "code",
        "colab": {
          "base_uri": "https://localhost:8080/",
          "height": 684
        },
        "outputId": "c7fc1731-880e-4eb3-e246-53a81b45c1ac"
      },
      "source": [
        "import matplotlib.pyplot as plt\n",
        "import numpy as np\n",
        "\n",
        "def func(label, pct, allvalues): \n",
        "    absolute = pct * 100/np.sum(allvalues)\n",
        "    return \"{}\\n{}%\".format(label, truncate(absolute,2)) \n",
        "\n",
        "explode = (0.0, 0.0, 0.1, 0.1, 0.1, 0.1) \n",
        "labels = pd.unique(results_df['estado'])\n",
        "labels_with_percentage = []\n",
        "\n",
        "estados = []\n",
        "\n",
        "for label in labels:\n",
        "  sum = (results_df.estado == label).sum()\n",
        "  estados.append(sum)\n",
        "\n",
        "for (label, estado) in zip(labels,estados):\n",
        "    labels_with_percentage.append(func(label, estado, estados))\n",
        "\n",
        "fig, ax = plt.subplots(figsize = (10, 7)) \n",
        "\n",
        "ax.pie(estados, explode=explode, labels=labels,  startangle=180)\n",
        "\n",
        "plt.axis('equal') # Try commenting this out.\n",
        "plt.title('Estado Contagiados Covid En Colombia')\n",
        "plt.legend(labels_with_percentage, loc='left center', bbox_to_anchor=(-0.1, 1.),\n",
        "              fontsize=12)\n",
        "\n",
        "plt.show()"
      ],
      "execution_count": 7,
      "outputs": [
        {
          "output_type": "stream",
          "text": [
            "/usr/local/lib/python3.6/dist-packages/ipykernel_launcher.py:28: MatplotlibDeprecationWarning: Unrecognized location 'left center'. Falling back on 'best'; valid locations are\n",
            "\tbest\n",
            "\tupper right\n",
            "\tupper left\n",
            "\tlower left\n",
            "\tlower right\n",
            "\tright\n",
            "\tcenter left\n",
            "\tcenter right\n",
            "\tlower center\n",
            "\tupper center\n",
            "\tcenter\n",
            "This will raise an exception in 3.3.\n"
          ],
          "name": "stderr"
        },
        {
          "output_type": "display_data",
          "data": {
            "image/png": "[encoded data removed]",
            "text/plain": [
              "<Figure size 720x504 with 1 Axes>"
            ]
          },
          "metadata": {
            "tags": []
          }
        }
      ]
    },
    {
      "cell_type": "code",
      "metadata": {
        "id": "uqL6BIfpanTn",
        "colab_type": "code",
        "colab": {
          "base_uri": "https://localhost:8080/",
          "height": 551
        },
        "outputId": "0fd21649-2ce9-4b68-d46b-00344d276559"
      },
      "source": [
        "\n",
        "\n",
        "\n",
        "results_df['edad']=results_df['edad'].astype('int')\n",
        "fallecidos = results_df[results_df.estado == 'Fallecido']\n",
        "\n",
        "bins = [0,10,20,30,40,50,60,70,80,90,100]\n",
        "rangos = fallecidos.groupby(pd.cut(fallecidos['edad'], bins=bins)).edad.count()*100/total\n",
        "rangos.plot(kind='bar')\n",
        "\n",
        "print('menores de un año')\n",
        "hola\n",
        "\n"
      ],
      "execution_count": 52,
      "outputs": [
        {
          "output_type": "stream",
          "text": [
            "menores de un año\n"
          ],
          "name": "stdout"
        },
        {
          "output_type": "execute_result",
          "data": {
            "text/plain": [
              "edad\n",
              "(0, 10]      0.003146\n",
              "(10, 20]     0.007341\n",
              "(20, 30]     0.048768\n",
              "(30, 40]     0.123755\n",
              "(40, 50]     0.276350\n",
              "(50, 60]     0.532774\n",
              "(60, 70]     0.803356\n",
              "(70, 80]     0.839539\n",
              "(80, 90]     0.632931\n",
              "(90, 100]    0.142632\n",
              "Name: edad, dtype: float64"
            ]
          },
          "metadata": {
            "tags": []
          },
          "execution_count": 52
        },
        {
          "output_type": "display_data",
          "data": {
            "image/png": "[encoded data removed]",
            "text/plain": [
              "<Figure size 432x288 with 1 Axes>"
            ]
          },
          "metadata": {
            "tags": [],
            "needs_background": "light"
          }
        }
      ]
    },
    {
      "cell_type": "code",
      "metadata": {
        "id": "O9whmYiGHH4b",
        "colab_type": "code",
        "colab": {
          "base_uri": "https://localhost:8080/",
          "height": 54
        },
        "outputId": "a864ef57-dc1c-432c-aed3-6f86b64b5c04"
      },
      "source": [
        "edad = 3\n",
        "youns = results_df[results_df.edad == edad] \n",
        "\n",
        "j = pd.cut(results_df['edad'], bins=[0,10])\n",
        "\n",
        "print(len(j.index))\n",
        "\n",
        "total_youns = len(youns.index)\n",
        "\n",
        "deads = (youns.estado == 'Fallecido').sum()\n",
        "\n",
        "print('los jovenes infectados de {} son {} y los fallecidos: {} con un porcenyaje de muerte de: {} % '.format(edad,total_youns, deads, (deads*100/\n",
        "                                                                                                                                total_youns)))"
      ],
      "execution_count": 51,
      "outputs": [
        {
          "output_type": "stream",
          "text": [
            "190700\n",
            "los jovenes infectados de 3 son 657 y los fallecidos: 3 con un porcenyaje de muerte de: 0.45662100456621 % \n"
          ],
          "name": "stdout"
        }
      ]
    }
  ]
}
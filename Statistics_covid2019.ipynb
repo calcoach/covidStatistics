{
  "nbformat": 4,
  "nbformat_minor": 0,
  "metadata": {
    "colab": {
      "name": "Statistics covid2019.ipynb",
      "provenance": [],
      "collapsed_sections": [],
      "authorship_tag": "ABX9TyNafNJsRmw3pX3AGWrqbhY2",
      "include_colab_link": true
    },
    "kernelspec": {
      "name": "python3",
      "display_name": "Python 3"
    }
  },
  "cells": [
    {
      "cell_type": "markdown",
      "metadata": {
        "id": "view-in-github",
        "colab_type": "text"
      },
      "source": [
        "<a href=\"https://colab.research.google.com/github/calcoach/covidStatistics/blob/master/Statistics_covid2019.ipynb\" target=\"_parent\"><img src=\"https://colab.research.google.com/assets/colab-badge.svg\" alt=\"Open In Colab\"/></a>"
      ]
    },
    {
      "cell_type": "markdown",
      "metadata": {
        "id": "jOXmCsTVZMPu",
        "colab_type": "text"
      },
      "source": [
        "# Estadisticas Covid19 Colombia\n",
        "\n",
        "\n",
        "#Instalar sodapy\n"
      ]
    },
    {
      "cell_type": "code",
      "metadata": {
        "id": "3Df_QnjZTif0",
        "colab_type": "code",
        "colab": {
          "base_uri": "https://localhost:8080/",
          "height": 201
        },
        "outputId": "637e953b-c005-475b-dc30-bf8bf5f2e7f7"
      },
      "source": [
        "!pip install sodapy"
      ],
      "execution_count": 2,
      "outputs": [
        {
          "output_type": "stream",
          "text": [
            "Collecting sodapy\n",
            "  Downloading https://files.pythonhosted.org/packages/9e/74/95fb7d45bbe7f1de43caac45d7dd4807ef1e15881564a00eef489a3bb5c6/sodapy-2.1.0-py2.py3-none-any.whl\n",
            "Requirement already satisfied: requests>=2.20.0 in /usr/local/lib/python3.6/dist-packages (from sodapy) (2.23.0)\n",
            "Requirement already satisfied: urllib3!=1.25.0,!=1.25.1,<1.26,>=1.21.1 in /usr/local/lib/python3.6/dist-packages (from requests>=2.20.0->sodapy) (1.24.3)\n",
            "Requirement already satisfied: certifi>=2017.4.17 in /usr/local/lib/python3.6/dist-packages (from requests>=2.20.0->sodapy) (2020.6.20)\n",
            "Requirement already satisfied: idna<3,>=2.5 in /usr/local/lib/python3.6/dist-packages (from requests>=2.20.0->sodapy) (2.10)\n",
            "Requirement already satisfied: chardet<4,>=3.0.2 in /usr/local/lib/python3.6/dist-packages (from requests>=2.20.0->sodapy) (3.0.4)\n",
            "Installing collected packages: sodapy\n",
            "Successfully installed sodapy-2.1.0\n"
          ],
          "name": "stdout"
        }
      ]
    },
    {
      "cell_type": "markdown",
      "metadata": {
        "id": "z10cIIk7tlPm",
        "colab_type": "text"
      },
      "source": [
        "#Obtener JSON con la data\n",
        "\n",
        "Llama a la api de datos.gov con el json de datos de casos positivos covid19 \n",
        "\n"
      ]
    },
    {
      "cell_type": "code",
      "metadata": {
        "id": "ZvTgvV2GSmhV",
        "colab_type": "code",
        "colab": {
          "base_uri": "https://localhost:8080/",
          "height": 54
        },
        "outputId": "e3e94a12-8df1-4da2-bbf9-575ca42b4e35"
      },
      "source": [
        "\n",
        "import pandas as pd\n",
        "from sodapy import Socrata\n",
        "\n",
        "# Unauthenticated client only works with public data sets. Note 'None'\n",
        "# in place of application token, and no username or password:\n",
        "client = Socrata(\"www.datos.gov.co\", None)\n",
        "\n",
        "# Example authenticated client (needed for non-public datasets):\n",
        "# client = Socrata(www.datos.gov.co,\n",
        "#                  MyAppToken,\n",
        "#                  userame=\"user@example.com\",\n",
        "#                  password=\"AFakePassword\")\n",
        "\n",
        "# First 2000 results, returned as JSON from API / converted to Python list of\n",
        "# dictionaries by sodapy.\n",
        "dataset = \"gt2j-8ykr\"\n",
        "count = client.get(dataset,select =\"COUNT(*)\")\n",
        "count = count.pop()\n",
        "limite = count['COUNT']\n",
        "print('Limite: ' + str(limite))\n",
        "\n",
        "results = client.get(dataset, limit = limite)\n",
        "\n",
        "# Convert to pandas DataFrame\n",
        "results_df = pd.DataFrame.from_records(results)"
      ],
      "execution_count": 3,
      "outputs": [
        {
          "output_type": "stream",
          "text": [
            "WARNING:root:Requests made without an app_token will be subject to strict throttling limits.\n"
          ],
          "name": "stderr"
        },
        {
          "output_type": "stream",
          "text": [
            "Limite: 197278\n"
          ],
          "name": "stdout"
        }
      ]
    },
    {
      "cell_type": "markdown",
      "metadata": {
        "id": "bOPIpHWxuZOY",
        "colab_type": "text"
      },
      "source": [
        "Obtiene un sumario de las columnas"
      ]
    },
    {
      "cell_type": "code",
      "metadata": {
        "id": "F3GPB0x3w0NV",
        "colab_type": "code",
        "colab": {
          "base_uri": "https://localhost:8080/",
          "height": 205
        },
        "outputId": "f60f6219-c072-452e-f9cb-1b332b94c57a"
      },
      "source": [
        "#results_df.count()\n",
        "results_df.describe()"
      ],
      "execution_count": 4,
      "outputs": [
        {
          "output_type": "execute_result",
          "data": {
            "text/html": [
              "<div>\n",
              "<style scoped>\n",
              "    .dataframe tbody tr th:only-of-type {\n",
              "        vertical-align: middle;\n",
              "    }\n",
              "\n",
              "    .dataframe tbody tr th {\n",
              "        vertical-align: top;\n",
              "    }\n",
              "\n",
              "    .dataframe thead th {\n",
              "        text-align: right;\n",
              "    }\n",
              "</style>\n",
              "<table border=\"1\" class=\"dataframe\">\n",
              "  <thead>\n",
              "    <tr style=\"text-align: right;\">\n",
              "      <th></th>\n",
              "      <th>id_de_caso</th>\n",
              "      <th>fecha_de_notificaci_n</th>\n",
              "      <th>c_digo_divipola</th>\n",
              "      <th>ciudad_de_ubicaci_n</th>\n",
              "      <th>departamento</th>\n",
              "      <th>atenci_n</th>\n",
              "      <th>edad</th>\n",
              "      <th>sexo</th>\n",
              "      <th>tipo</th>\n",
              "      <th>estado</th>\n",
              "      <th>pa_s_de_procedencia</th>\n",
              "      <th>fis</th>\n",
              "      <th>fecha_diagnostico</th>\n",
              "      <th>fecha_recuperado</th>\n",
              "      <th>fecha_reporte_web</th>\n",
              "      <th>tipo_recuperaci_n</th>\n",
              "      <th>codigo_departamento</th>\n",
              "      <th>codigo_pais</th>\n",
              "      <th>pertenencia_etnica</th>\n",
              "      <th>nombre_grupo_etnico</th>\n",
              "      <th>fecha_de_muerte</th>\n",
              "    </tr>\n",
              "  </thead>\n",
              "  <tbody>\n",
              "    <tr>\n",
              "      <th>count</th>\n",
              "      <td>197278</td>\n",
              "      <td>197278</td>\n",
              "      <td>197278</td>\n",
              "      <td>197278</td>\n",
              "      <td>197278</td>\n",
              "      <td>197278</td>\n",
              "      <td>197278</td>\n",
              "      <td>197278</td>\n",
              "      <td>197278</td>\n",
              "      <td>197278</td>\n",
              "      <td>952</td>\n",
              "      <td>197278</td>\n",
              "      <td>193545</td>\n",
              "      <td>91793</td>\n",
              "      <td>197278</td>\n",
              "      <td>91793</td>\n",
              "      <td>197278</td>\n",
              "      <td>875</td>\n",
              "      <td>85068</td>\n",
              "      <td>2748</td>\n",
              "      <td>6743</td>\n",
              "    </tr>\n",
              "    <tr>\n",
              "      <th>unique</th>\n",
              "      <td>197278</td>\n",
              "      <td>137</td>\n",
              "      <td>788</td>\n",
              "      <td>739</td>\n",
              "      <td>37</td>\n",
              "      <td>6</td>\n",
              "      <td>107</td>\n",
              "      <td>4</td>\n",
              "      <td>3</td>\n",
              "      <td>6</td>\n",
              "      <td>46</td>\n",
              "      <td>144</td>\n",
              "      <td>133</td>\n",
              "      <td>127</td>\n",
              "      <td>133</td>\n",
              "      <td>2</td>\n",
              "      <td>36</td>\n",
              "      <td>39</td>\n",
              "      <td>6</td>\n",
              "      <td>60</td>\n",
              "      <td>120</td>\n",
              "    </tr>\n",
              "    <tr>\n",
              "      <th>top</th>\n",
              "      <td>25807</td>\n",
              "      <td>2020-07-03T00:00:00.000</td>\n",
              "      <td>11001</td>\n",
              "      <td>Bogotá D.C.</td>\n",
              "      <td>Bogotá D.C.</td>\n",
              "      <td>Recuperado</td>\n",
              "      <td>30</td>\n",
              "      <td>M</td>\n",
              "      <td>En estudio</td>\n",
              "      <td>Leve</td>\n",
              "      <td>ESPAÑA</td>\n",
              "      <td>Asintomático</td>\n",
              "      <td>2020-07-14T00:00:00.000</td>\n",
              "      <td>2020-07-19T00:00:00.000</td>\n",
              "      <td>2020-07-17T00:00:00.000</td>\n",
              "      <td>Tiempo</td>\n",
              "      <td>11</td>\n",
              "      <td>724</td>\n",
              "      <td>Otro</td>\n",
              "      <td>Por Definir</td>\n",
              "      <td>2020-07-07T00:00:00.000</td>\n",
              "    </tr>\n",
              "    <tr>\n",
              "      <th>freq</th>\n",
              "      <td>1</td>\n",
              "      <td>6268</td>\n",
              "      <td>63265</td>\n",
              "      <td>63265</td>\n",
              "      <td>63265</td>\n",
              "      <td>91793</td>\n",
              "      <td>5403</td>\n",
              "      <td>105756</td>\n",
              "      <td>178766</td>\n",
              "      <td>151213</td>\n",
              "      <td>264</td>\n",
              "      <td>26308</td>\n",
              "      <td>7551</td>\n",
              "      <td>5004</td>\n",
              "      <td>8934</td>\n",
              "      <td>52073</td>\n",
              "      <td>63265</td>\n",
              "      <td>259</td>\n",
              "      <td>71667</td>\n",
              "      <td>824</td>\n",
              "      <td>179</td>\n",
              "    </tr>\n",
              "  </tbody>\n",
              "</table>\n",
              "</div>"
            ],
            "text/plain": [
              "       id_de_caso  ...          fecha_de_muerte\n",
              "count      197278  ...                     6743\n",
              "unique     197278  ...                      120\n",
              "top         25807  ...  2020-07-07T00:00:00.000\n",
              "freq            1  ...                      179\n",
              "\n",
              "[4 rows x 21 columns]"
            ]
          },
          "metadata": {
            "tags": []
          },
          "execution_count": 4
        }
      ]
    },
    {
      "cell_type": "code",
      "metadata": {
        "id": "bExzqpg1W2F4",
        "colab_type": "code",
        "colab": {
          "base_uri": "https://localhost:8080/",
          "height": 235
        },
        "outputId": "8b23bf6e-4c88-417c-867e-cda7fde2c521"
      },
      "source": [
        " #condition = results_df[results_df['estado'] == \"Leve\"]\n",
        " #print(condition.count)\n",
        "import math\n",
        "def truncate(number, digits) -> float:\n",
        "    stepper = 10.0 ** digits\n",
        "    return math.trunc(stepper * number) / stepper\n",
        "\n",
        "total = len(results_df.index)\n",
        "estados = pd.unique(results_df['estado'])\n",
        "\n",
        "for estado in estados:\n",
        "  #print(estado + \": \" + str((results_df.estado == estado).sum())  )\n",
        "  num = (results_df.estado == estado).sum()\n",
        "  per = truncate((num * 100)/total,2)\n",
        "  print('{}: {} {}%'.format(estado,num, per))\n",
        "\n",
        "print(\"Total: \"+ str(total))\n",
        "\n",
        "print('\\n')\n",
        "\n",
        "print(\"Norte de Santander: \"+str((results_df.departamento =='Norte de Santander').sum()))\n",
        "print(\"Barranquilla: \"+str((results_df.departamento =='Barranquilla D.E.').sum()))\n",
        "print(\"Atlantico: \"+str((results_df.departamento == \"Atlantico\").sum()))\n",
        " \n",
        "\n"
      ],
      "execution_count": 5,
      "outputs": [
        {
          "output_type": "stream",
          "text": [
            "Leve: 151213 76.64%\n",
            "Asintomático: 26308 13.33%\n",
            "Fallecido: 6736 3.41%\n",
            "Moderado: 11469 5.81%\n",
            "Grave: 1150 0.58%\n",
            "N/A: 402 0.2%\n",
            "Total: 197278\n",
            "\n",
            "\n",
            "Norte de Santander: 836\n",
            "Barranquilla: 25062\n",
            "Atlantico: 0\n"
          ],
          "name": "stdout"
        }
      ]
    },
    {
      "cell_type": "markdown",
      "metadata": {
        "id": "NzPhSUv8dEM7",
        "colab_type": "text"
      },
      "source": [
        "# Grafica de Estado de los contagiados\n",
        "\n",
        "Se genera una grafica piechart con los estados de los infectados de covid. "
      ]
    },
    {
      "cell_type": "code",
      "metadata": {
        "id": "d4uRsYMpei0b",
        "colab_type": "code",
        "colab": {
          "base_uri": "https://localhost:8080/",
          "height": 684
        },
        "outputId": "29502f0e-9182-488a-a187-b253047732d5"
      },
      "source": [
        "import matplotlib.pyplot as plt\n",
        "import numpy as np\n",
        "\n",
        "def func(label, pct, allvalues): \n",
        "    absolute = pct * 100/np.sum(allvalues)\n",
        "    return \"{}\\n{}%\".format(label, truncate(absolute,2)) \n",
        "\n",
        "explode = (0.0, 0.0, 0.1, 0.1, 0.1, 0.1) \n",
        "labels = pd.unique(results_df['estado'])\n",
        "labels_with_percentage = []\n",
        "\n",
        "estados = []\n",
        "\n",
        "for label in labels:\n",
        "  sum = (results_df.estado == label).sum()\n",
        "  estados.append(sum)\n",
        "\n",
        "for (label, estado) in zip(labels,estados):\n",
        "    labels_with_percentage.append(func(label, estado, estados))\n",
        "\n",
        "fig, ax = plt.subplots(figsize = (10, 7)) \n",
        "\n",
        "ax.pie(estados, explode=explode, labels=labels,  startangle=180)\n",
        "\n",
        "plt.axis('equal') # Try commenting this out.\n",
        "plt.title('Estado Contagiados Covid En Colombia')\n",
        "plt.legend(labels_with_percentage, loc='left center', bbox_to_anchor=(-0.1, 1.),\n",
        "              fontsize=12)\n",
        "\n",
        "plt.show()"
      ],
      "execution_count": 6,
      "outputs": [
        {
          "output_type": "stream",
          "text": [
            "/usr/local/lib/python3.6/dist-packages/ipykernel_launcher.py:28: MatplotlibDeprecationWarning: Unrecognized location 'left center'. Falling back on 'best'; valid locations are\n",
            "\tbest\n",
            "\tupper right\n",
            "\tupper left\n",
            "\tlower left\n",
            "\tlower right\n",
            "\tright\n",
            "\tcenter left\n",
            "\tcenter right\n",
            "\tlower center\n",
            "\tupper center\n",
            "\tcenter\n",
            "This will raise an exception in 3.3.\n"
          ],
          "name": "stderr"
        },
        {
          "output_type": "display_data",
          "data": {
            "image/png": "[encoded data removed]",
            "text/plain": [
              "<Figure size 720x504 with 1 Axes>"
            ]
          },
          "metadata": {
            "tags": []
          }
        }
      ]
    },
    {
      "cell_type": "markdown",
      "metadata": {
        "id": "Uek7Yd5DRcqZ",
        "colab_type": "text"
      },
      "source": [
        "# Fallecidos por Rango de edad"
      ]
    },
    {
      "cell_type": "code",
      "metadata": {
        "id": "uqL6BIfpanTn",
        "colab_type": "code",
        "colab": {
          "base_uri": "https://localhost:8080/",
          "height": 333
        },
        "outputId": "bed09622-8ac5-4706-d6c9-94bc31ba8c49"
      },
      "source": [
        "results_df['edad']=results_df['edad'].astype('int')\n",
        "fallecidos = results_df[results_df.estado == 'Fallecido']\n",
        "\n",
        "bins = [0,10,20,30,40,50,60,70,80,90,100]\n",
        "rangos = fallecidos.groupby(pd.cut(fallecidos['edad'], bins=bins)).edad.count()\n",
        "rangos.plot(kind='bar')"
      ],
      "execution_count": 12,
      "outputs": [
        {
          "output_type": "execute_result",
          "data": {
            "text/plain": [
              "<matplotlib.axes._subplots.AxesSubplot at 0x7f38299fc0b8>"
            ]
          },
          "metadata": {
            "tags": []
          },
          "execution_count": 12
        },
        {
          "output_type": "display_data",
          "data": {
            "image/png": "[encoded data removed]",
            "text/plain": [
              "<Figure size 432x288 with 1 Axes>"
            ]
          },
          "metadata": {
            "tags": [],
            "needs_background": "light"
          }
        }
      ]
    },
    {
      "cell_type": "markdown",
      "metadata": {
        "id": "3EtMaVt8RySF",
        "colab_type": "text"
      },
      "source": [
        "#Buscar porcentaje de fallecimientos por edad\n"
      ]
    },
    {
      "cell_type": "code",
      "metadata": {
        "id": "O9whmYiGHH4b",
        "colab_type": "code",
        "colab": {
          "base_uri": "https://localhost:8080/",
          "height": 35
        },
        "outputId": "f3417264-df11-401f-d8c9-9b015d1bf80f"
      },
      "source": [
        "edad = 22\n",
        "youns = results_df[results_df.edad == edad] \n",
        "\n",
        "total_youns = len(youns.index)\n",
        "\n",
        "deads = (youns.estado == 'Fallecido').sum()\n",
        "\n",
        "print('Las personas infectadas de {} años son {} y los fallecidos {} con un porcentaje de muerte de: {} % '.format(edad,total_youns, deads, (deads*100/\n",
        "                                                                                                                                total_youns)))"
      ],
      "execution_count": 39,
      "outputs": [
        {
          "output_type": "stream",
          "text": [
            "Las personas infectadas de 22 años son 3621 y los fallecidos 6 con un porcentaje de muerte de: 0.16570008285004142 % \n"
          ],
          "name": "stdout"
        }
      ]
    },
    {
      "cell_type": "markdown",
      "metadata": {
        "id": "dHeJfmC6SI76",
        "colab_type": "text"
      },
      "source": [
        "#Fallecidos por departamento"
      ]
    },
    {
      "cell_type": "code",
      "metadata": {
        "id": "96AzzGIDSN8K",
        "colab_type": "code",
        "colab": {}
      },
      "source": [
        "\n",
        "departamentos = fallecidos.groupby(by='departamento').mean\n",
        "  \n",
        "\n",
        "\n",
        "  "
      ],
      "execution_count": 52,
      "outputs": []
    }
  ]
}
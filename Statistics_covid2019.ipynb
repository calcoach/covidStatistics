{
  "nbformat": 4,
  "nbformat_minor": 0,
  "metadata": {
    "colab": {
      "name": "Statistics covid2019.ipynb",
      "provenance": [],
      "collapsed_sections": [],
      "authorship_tag": "ABX9TyMLnJ514WGHGG60wy4NwUki",
      "include_colab_link": true
    },
    "kernelspec": {
      "name": "python3",
      "display_name": "Python 3"
    }
  },
  "cells": [
    {
      "cell_type": "markdown",
      "metadata": {
        "id": "view-in-github",
        "colab_type": "text"
      },
      "source": [
        "<a href=\"https://colab.research.google.com/github/calcoach/covidStatistics/blob/master/Statistics_covid2019.ipynb\" target=\"_parent\"><img src=\"https://colab.research.google.com/assets/colab-badge.svg\" alt=\"Open In Colab\"/></a>"
      ]
    },
    {
      "cell_type": "markdown",
      "metadata": {
        "id": "jOXmCsTVZMPu",
        "colab_type": "text"
      },
      "source": [
        "# Estadisticas Covid19 Colombia\n",
        "\n",
        "\n",
        "#Instalar sodapy\n"
      ]
    },
    {
      "cell_type": "code",
      "metadata": {
        "id": "3Df_QnjZTif0",
        "colab_type": "code",
        "colab": {
          "base_uri": "https://localhost:8080/",
          "height": 170
        },
        "outputId": "fdab3e72-6227-4732-8ff3-00e37b7a3c99"
      },
      "source": [
        "!pip install sodapy"
      ],
      "execution_count": 1,
      "outputs": [
        {
          "output_type": "stream",
          "text": [
            "Collecting sodapy\n",
            "  Downloading https://files.pythonhosted.org/packages/9e/74/95fb7d45bbe7f1de43caac45d7dd4807ef1e15881564a00eef489a3bb5c6/sodapy-2.1.0-py2.py3-none-any.whl\n",
            "Requirement already satisfied: requests>=2.20.0 in /usr/local/lib/python3.6/dist-packages (from sodapy) (2.23.0)\n",
            "Requirement already satisfied: chardet<4,>=3.0.2 in /usr/local/lib/python3.6/dist-packages (from requests>=2.20.0->sodapy) (3.0.4)\n",
            "Requirement already satisfied: urllib3!=1.25.0,!=1.25.1,<1.26,>=1.21.1 in /usr/local/lib/python3.6/dist-packages (from requests>=2.20.0->sodapy) (1.24.3)\n",
            "Requirement already satisfied: certifi>=2017.4.17 in /usr/local/lib/python3.6/dist-packages (from requests>=2.20.0->sodapy) (2020.6.20)\n",
            "Requirement already satisfied: idna<3,>=2.5 in /usr/local/lib/python3.6/dist-packages (from requests>=2.20.0->sodapy) (2.10)\n",
            "Installing collected packages: sodapy\n",
            "Successfully installed sodapy-2.1.0\n"
          ],
          "name": "stdout"
        }
      ]
    },
    {
      "cell_type": "markdown",
      "metadata": {
        "id": "z10cIIk7tlPm",
        "colab_type": "text"
      },
      "source": [
        "#Obtener JSON con la data\n",
        "\n",
        "Llama a la api de datos.gov con el json de datos de casos positivos covid19 \n",
        "\n"
      ]
    },
    {
      "cell_type": "code",
      "metadata": {
        "id": "ZvTgvV2GSmhV",
        "colab_type": "code",
        "colab": {
          "base_uri": "https://localhost:8080/",
          "height": 51
        },
        "outputId": "004b7e61-a3e7-4dca-dfa4-262e7cf2a8fa"
      },
      "source": [
        "\n",
        "import pandas as pd\n",
        "from sodapy import Socrata\n",
        "\n",
        "# Unauthenticated client only works with public data sets. Note 'None'\n",
        "# in place of application token, and no username or password:\n",
        "client = Socrata(\"www.datos.gov.co\", None)\n",
        "\n",
        "# Example authenticated client (needed for non-public datasets):\n",
        "# client = Socrata(www.datos.gov.co,\n",
        "#                  MyAppToken,\n",
        "#                  userame=\"user@example.com\",\n",
        "#                  password=\"AFakePassword\")\n",
        "\n",
        "# First 2000 results, returned as JSON from API / converted to Python list of\n",
        "# dictionaries by sodapy.\n",
        "dataset = \"gt2j-8ykr\"\n",
        "count = client.get(dataset,select =\"COUNT(*)\")\n",
        "count = count.pop()\n",
        "limite = count['COUNT']\n",
        "print('Limite: ' + str(limite))\n",
        "\n",
        "results = client.get(dataset, limit = limite)\n",
        "\n",
        "# Convert to pandas DataFrame\n",
        "results_df = pd.DataFrame.from_records(results)"
      ],
      "execution_count": 2,
      "outputs": [
        {
          "output_type": "stream",
          "text": [
            "WARNING:root:Requests made without an app_token will be subject to strict throttling limits.\n"
          ],
          "name": "stderr"
        },
        {
          "output_type": "stream",
          "text": [
            "Limite: 154277\n"
          ],
          "name": "stdout"
        }
      ]
    },
    {
      "cell_type": "markdown",
      "metadata": {
        "id": "bOPIpHWxuZOY",
        "colab_type": "text"
      },
      "source": [
        "Obtiene un sumario de las columnas"
      ]
    },
    {
      "cell_type": "code",
      "metadata": {
        "id": "F3GPB0x3w0NV",
        "colab_type": "code",
        "colab": {
          "base_uri": "https://localhost:8080/",
          "height": 210
        },
        "outputId": "f64d05cd-ea9c-4faa-f181-baf8ff8f4f96"
      },
      "source": [
        "#results_df.count()\n",
        "results_df.describe()"
      ],
      "execution_count": null,
      "outputs": [
        {
          "output_type": "execute_result",
          "data": {
            "text/html": [
              "<div>\n",
              "<style scoped>\n",
              "    .dataframe tbody tr th:only-of-type {\n",
              "        vertical-align: middle;\n",
              "    }\n",
              "\n",
              "    .dataframe tbody tr th {\n",
              "        vertical-align: top;\n",
              "    }\n",
              "\n",
              "    .dataframe thead th {\n",
              "        text-align: right;\n",
              "    }\n",
              "</style>\n",
              "<table border=\"1\" class=\"dataframe\">\n",
              "  <thead>\n",
              "    <tr style=\"text-align: right;\">\n",
              "      <th></th>\n",
              "      <th>id_de_caso</th>\n",
              "      <th>fecha_de_notificaci_n</th>\n",
              "      <th>c_digo_divipola</th>\n",
              "      <th>ciudad_de_ubicaci_n</th>\n",
              "      <th>departamento</th>\n",
              "      <th>atenci_n</th>\n",
              "      <th>edad</th>\n",
              "      <th>sexo</th>\n",
              "      <th>tipo</th>\n",
              "      <th>estado</th>\n",
              "      <th>pa_s_de_procedencia</th>\n",
              "      <th>fis</th>\n",
              "      <th>fecha_diagnostico</th>\n",
              "      <th>fecha_recuperado</th>\n",
              "      <th>fecha_reporte_web</th>\n",
              "      <th>tipo_recuperaci_n</th>\n",
              "      <th>codigo_departamento</th>\n",
              "      <th>codigo_pais</th>\n",
              "      <th>pertenencia_etnica</th>\n",
              "      <th>nombre_grupo_etnico</th>\n",
              "      <th>fecha_de_muerte</th>\n",
              "    </tr>\n",
              "  </thead>\n",
              "  <tbody>\n",
              "    <tr>\n",
              "      <th>count</th>\n",
              "      <td>150445</td>\n",
              "      <td>150445</td>\n",
              "      <td>150445</td>\n",
              "      <td>150445</td>\n",
              "      <td>150445</td>\n",
              "      <td>150445</td>\n",
              "      <td>150445</td>\n",
              "      <td>150445</td>\n",
              "      <td>150445</td>\n",
              "      <td>150445</td>\n",
              "      <td>951</td>\n",
              "      <td>150445</td>\n",
              "      <td>146987</td>\n",
              "      <td>63451</td>\n",
              "      <td>150445</td>\n",
              "      <td>63452</td>\n",
              "      <td>150445</td>\n",
              "      <td>875</td>\n",
              "      <td>80148</td>\n",
              "      <td>2238</td>\n",
              "      <td>5442</td>\n",
              "    </tr>\n",
              "    <tr>\n",
              "      <th>unique</th>\n",
              "      <td>150445</td>\n",
              "      <td>130</td>\n",
              "      <td>732</td>\n",
              "      <td>691</td>\n",
              "      <td>37</td>\n",
              "      <td>6</td>\n",
              "      <td>109</td>\n",
              "      <td>4</td>\n",
              "      <td>3</td>\n",
              "      <td>6</td>\n",
              "      <td>46</td>\n",
              "      <td>138</td>\n",
              "      <td>126</td>\n",
              "      <td>120</td>\n",
              "      <td>126</td>\n",
              "      <td>2</td>\n",
              "      <td>36</td>\n",
              "      <td>39</td>\n",
              "      <td>6</td>\n",
              "      <td>85</td>\n",
              "      <td>114</td>\n",
              "    </tr>\n",
              "    <tr>\n",
              "      <th>top</th>\n",
              "      <td>82119</td>\n",
              "      <td>2020-06-26T00:00:00.000</td>\n",
              "      <td>11001</td>\n",
              "      <td>Bogotá D.C.</td>\n",
              "      <td>Bogotá D.C.</td>\n",
              "      <td>Casa</td>\n",
              "      <td>30</td>\n",
              "      <td>M</td>\n",
              "      <td>En estudio</td>\n",
              "      <td>Leve</td>\n",
              "      <td>ESPAÑA</td>\n",
              "      <td>Asintomático</td>\n",
              "      <td>2020-07-10T00:00:00.000</td>\n",
              "      <td>2020-07-06T00:00:00.000</td>\n",
              "      <td>2020-07-10T00:00:00.000</td>\n",
              "      <td>PCR</td>\n",
              "      <td>11</td>\n",
              "      <td>724</td>\n",
              "      <td>Otro</td>\n",
              "      <td>Por definir</td>\n",
              "      <td>2020-07-03T00:00:00.000</td>\n",
              "    </tr>\n",
              "    <tr>\n",
              "      <th>freq</th>\n",
              "      <td>1</td>\n",
              "      <td>4656</td>\n",
              "      <td>49644</td>\n",
              "      <td>49644</td>\n",
              "      <td>49644</td>\n",
              "      <td>72479</td>\n",
              "      <td>4171</td>\n",
              "      <td>80807</td>\n",
              "      <td>133633</td>\n",
              "      <td>115126</td>\n",
              "      <td>265</td>\n",
              "      <td>19670</td>\n",
              "      <td>6373</td>\n",
              "      <td>2430</td>\n",
              "      <td>6803</td>\n",
              "      <td>31817</td>\n",
              "      <td>49644</td>\n",
              "      <td>260</td>\n",
              "      <td>70503</td>\n",
              "      <td>555</td>\n",
              "      <td>147</td>\n",
              "    </tr>\n",
              "  </tbody>\n",
              "</table>\n",
              "</div>"
            ],
            "text/plain": [
              "       id_de_caso  ...          fecha_de_muerte\n",
              "count      150445  ...                     5442\n",
              "unique     150445  ...                      114\n",
              "top         82119  ...  2020-07-03T00:00:00.000\n",
              "freq            1  ...                      147\n",
              "\n",
              "[4 rows x 21 columns]"
            ]
          },
          "metadata": {
            "tags": []
          },
          "execution_count": 3
        }
      ]
    },
    {
      "cell_type": "code",
      "metadata": {
        "id": "bExzqpg1W2F4",
        "colab_type": "code",
        "colab": {
          "base_uri": "https://localhost:8080/",
          "height": 221
        },
        "outputId": "2be59e69-891c-44b2-abd5-cb31dd75771a"
      },
      "source": [
        " #condition = results_df[results_df['estado'] == \"Leve\"]\n",
        " #print(condition.count)\n",
        "import math\n",
        "def truncate(number, digits) -> float:\n",
        "    stepper = 10.0 ** digits\n",
        "    return math.trunc(stepper * number) / stepper\n",
        "\n",
        "total = len(results_df.index)\n",
        "estados = pd.unique(results_df['estado'])\n",
        "\n",
        "for estado in estados:\n",
        "  #print(estado + \": \" + str((results_df.estado == estado).sum())  )\n",
        "  num = (results_df.estado == estado).sum()\n",
        "  per = truncate((num * 100)/total,2)\n",
        "  print('{}: {} {}%'.format(estado,num, per))\n",
        "\n",
        "print(\"Total: \"+ str(total))\n",
        "\n",
        "print('\\n')\n",
        "\n",
        "print(\"Norte de Santander: \"+str((results_df.departamento =='Norte de Santander').sum()))\n",
        "print(\"Barranquilla: \"+str((results_df.departamento =='Barranquilla D.E.').sum()))\n",
        "print(\"Atlantico: \"+str((results_df.departamento == \"Atlantico\").sum()))\n",
        " \n",
        "\n"
      ],
      "execution_count": 3,
      "outputs": [
        {
          "output_type": "stream",
          "text": [
            "Leve: 117976 76.47%\n",
            "Asintomático: 20282 13.14%\n",
            "Fallecido: 5396 3.49%\n",
            "Moderado: 9308 6.03%\n",
            "Grave: 973 0.63%\n",
            "N/A: 342 0.22%\n",
            "Total: 154277\n",
            "\n",
            "\n",
            "Norte de Santander: 601\n",
            "Barranquilla: 19158\n",
            "Atlantico: 0\n"
          ],
          "name": "stdout"
        }
      ]
    },
    {
      "cell_type": "code",
      "metadata": {
        "id": "d4uRsYMpei0b",
        "colab_type": "code",
        "colab": {
          "base_uri": "https://localhost:8080/",
          "height": 668
        },
        "outputId": "ae3f7c8e-987b-4b8d-b82c-c9713574db9e"
      },
      "source": [
        "import matplotlib.pyplot as plt\n",
        "import numpy as np\n",
        "\n",
        "def func(label, pct, allvalues): \n",
        "    absolute = pct * 100/np.sum(allvalues)\n",
        "    return \"{}\\n{}%\".format(label, truncate(absolute,2)) \n",
        "\n",
        "explode = (0.0, 0.0, 0.1, 0.1, 0.1, 0.1) \n",
        "labels = pd.unique(results_df['estado'])\n",
        "labels_with_percentage = []\n",
        "\n",
        "estados = []\n",
        "\n",
        "for label in labels:\n",
        "  sum = (results_df.estado == label).sum()\n",
        "  estados.append(sum)\n",
        "\n",
        "for (label, estado) in zip(labels,estados):\n",
        "    labels_with_percentage.append(func(label, estado, estados))\n",
        "\n",
        "fig, ax = plt.subplots(figsize = (10, 7)) \n",
        "\n",
        "ax.pie(estados, explode=explode, labels=labels,  startangle=180)\n",
        "\n",
        "plt.axis('equal') # Try commenting this out.\n",
        "plt.title('Estado Contagiados Covid En Colombia')\n",
        "plt.legend(labels_with_percentage, loc='left center', bbox_to_anchor=(-0.1, 1.),\n",
        "              fontsize=12)\n",
        "\n",
        "plt.show()"
      ],
      "execution_count": 73,
      "outputs": [
        {
          "output_type": "stream",
          "text": [
            "/usr/local/lib/python3.6/dist-packages/ipykernel_launcher.py:28: MatplotlibDeprecationWarning: Unrecognized location 'left center'. Falling back on 'best'; valid locations are\n",
            "\tbest\n",
            "\tupper right\n",
            "\tupper left\n",
            "\tlower left\n",
            "\tlower right\n",
            "\tright\n",
            "\tcenter left\n",
            "\tcenter right\n",
            "\tlower center\n",
            "\tupper center\n",
            "\tcenter\n",
            "This will raise an exception in 3.3.\n"
          ],
          "name": "stderr"
        },
        {
          "output_type": "display_data",
          "data": {
            "image/png": "[encoded data removed]",
            "text/plain": [
              "<Figure size 720x504 with 1 Axes>"
            ]
          },
          "metadata": {
            "tags": []
          }
        }
      ]
    },
    {
      "cell_type": "code",
      "metadata": {
        "id": "OxihtfUPUyh9",
        "colab_type": "code",
        "colab": {
          "base_uri": "https://localhost:8080/",
          "height": 265
        },
        "outputId": "49b0d48e-3f98-4b61-831a-442b5b22b187"
      },
      "source": [
        "import pylab\n",
        "import matplotlib.pyplot as plt\n",
        "import math\n",
        "\n",
        "fig, ax = plt.subplots()\n",
        "\n",
        "labels= [\n",
        "\"one\",\n",
        "\"two\",\n",
        "\"three made up sentences\",\n",
        "\"four is also there\",\n",
        "\"five becomes a sentence\",\n",
        "\"six it is\",\n",
        "\"seven long\",\n",
        "\"eight long sent\",\n",
        "\"nine, as bla bel mo\",\n",
        "\"ten is also short\"]\n",
        "\n",
        "l = ax.pie([1,0.2, 0.3,0.1,0.4,7,50,35,5,2],\n",
        "labels=[\"\"] * len(labels),\n",
        "colors=(\"b\",\"g\",\"r\",\"y\", \"b\",\"g\",\"r\",\"y\",\"g\",\"black\"),\n",
        "startangle=20,\n",
        "radius=1,\n",
        "frame=True,   # Plot axes frame with the chart if true.\n",
        "labeldistance=1.1) #returns a list of matplotlib.patches.Wedge objects\n",
        "\n",
        "l2 = ax.pie([1,0.2, 0.3,0.1,0.4,7,50,35,5,2],#[0, 0.1, 0, 0.1,0,0.1,0,0.1,0,0.1],\n",
        "colors=(\"r\",\"g\",\"b\",\"w\", \"g\",\"b\",\"y\",\"r\",\"w\",\"black\"),\n",
        "startangle=20,\n",
        "radius=1-0.7,\n",
        "frame=True)   # Plot axes frame with the chart if true.\n",
        "\n",
        "for label, t in zip(labels, l[1]):\n",
        " x, y = t.get_position()\n",
        " angle = int(math.degrees(math.atan2(y, x)))\n",
        " ha = \"left\"\n",
        " va = \"bottom\"\n",
        "\n",
        "if angle > 90:\n",
        " angle -= 180\n",
        "\n",
        "if angle < 0:\n",
        " va = \"top\"\n",
        "\n",
        "if -45 <= angle <= 0:\n",
        " ha = \"right\"\n",
        " va = \"bottom\"\n",
        "\n",
        "plt.annotate(label, xy=(x,y), rotation=angle, ha=ha, va=va, size=8)\n",
        "\n",
        "ax.axis(\"equal\")\n",
        "plt.show()"
      ],
      "execution_count": 69,
      "outputs": [
        {
          "output_type": "display_data",
          "data": {
            "image/png": "[encoded data removed]",
            "text/plain": [
              "<Figure size 432x288 with 1 Axes>"
            ]
          },
          "metadata": {
            "tags": [],
            "needs_background": "light"
          }
        }
      ]
    },
    {
      "cell_type": "code",
      "metadata": {
        "id": "uqL6BIfpanTn",
        "colab_type": "code",
        "colab": {}
      },
      "source": [
        "  "
      ],
      "execution_count": null,
      "outputs": []
    }
  ]
}
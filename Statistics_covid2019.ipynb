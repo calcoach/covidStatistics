{
  "nbformat": 4,
  "nbformat_minor": 0,
  "metadata": {
    "colab": {
      "name": "Statistics covid2019.ipynb",
      "provenance": [],
      "collapsed_sections": [],
      "authorship_tag": "ABX9TyMbsKz2Ke4dSvX04i3qWX/W",
      "include_colab_link": true
    },
    "kernelspec": {
      "name": "python3",
      "display_name": "Python 3"
    }
  },
  "cells": [
    {
      "cell_type": "markdown",
      "metadata": {
        "id": "view-in-github",
        "colab_type": "text"
      },
      "source": [
        "<a href=\"https://colab.research.google.com/github/calcoach/covidStatistics/blob/master/Statistics_covid2019.ipynb\" target=\"_parent\"><img src=\"https://colab.research.google.com/assets/colab-badge.svg\" alt=\"Open In Colab\"/></a>"
      ]
    },
    {
      "cell_type": "markdown",
      "metadata": {
        "id": "jOXmCsTVZMPu",
        "colab_type": "text"
      },
      "source": [
        "# Estadisticas Covid19 Colombia\n",
        "\n",
        "\n",
        "#Instalar sodapy\n"
      ]
    },
    {
      "cell_type": "code",
      "metadata": {
        "id": "3Df_QnjZTif0",
        "colab_type": "code",
        "colab": {
          "base_uri": "https://localhost:8080/",
          "height": 201
        },
        "outputId": "e9b55830-e5ae-4d92-e183-61df50baa9d4"
      },
      "source": [
        "!pip install sodapy"
      ],
      "execution_count": 2,
      "outputs": [
        {
          "output_type": "stream",
          "text": [
            "Collecting sodapy\n",
            "  Downloading https://files.pythonhosted.org/packages/9e/74/95fb7d45bbe7f1de43caac45d7dd4807ef1e15881564a00eef489a3bb5c6/sodapy-2.1.0-py2.py3-none-any.whl\n",
            "Requirement already satisfied: requests>=2.20.0 in /usr/local/lib/python3.6/dist-packages (from sodapy) (2.23.0)\n",
            "Requirement already satisfied: certifi>=2017.4.17 in /usr/local/lib/python3.6/dist-packages (from requests>=2.20.0->sodapy) (2020.6.20)\n",
            "Requirement already satisfied: chardet<4,>=3.0.2 in /usr/local/lib/python3.6/dist-packages (from requests>=2.20.0->sodapy) (3.0.4)\n",
            "Requirement already satisfied: urllib3!=1.25.0,!=1.25.1,<1.26,>=1.21.1 in /usr/local/lib/python3.6/dist-packages (from requests>=2.20.0->sodapy) (1.24.3)\n",
            "Requirement already satisfied: idna<3,>=2.5 in /usr/local/lib/python3.6/dist-packages (from requests>=2.20.0->sodapy) (2.10)\n",
            "Installing collected packages: sodapy\n",
            "Successfully installed sodapy-2.1.0\n"
          ],
          "name": "stdout"
        }
      ]
    },
    {
      "cell_type": "markdown",
      "metadata": {
        "id": "z10cIIk7tlPm",
        "colab_type": "text"
      },
      "source": [
        "#Obtener JSON con la data\n",
        "\n",
        "Llama a la api de datos.gov con el json de datos de casos positivos covid19 \n",
        "\n"
      ]
    },
    {
      "cell_type": "code",
      "metadata": {
        "id": "ZvTgvV2GSmhV",
        "colab_type": "code",
        "colab": {
          "base_uri": "https://localhost:8080/",
          "height": 54
        },
        "outputId": "1a26f437-13c5-4328-dce5-22ed8ac74beb"
      },
      "source": [
        "\n",
        "import pandas as pd\n",
        "from sodapy import Socrata\n",
        "\n",
        "# Unauthenticated client only works with public data sets. Note 'None'\n",
        "# in place of application token, and no username or password:\n",
        "client = Socrata(\"www.datos.gov.co\", None)\n",
        "\n",
        "# Example authenticated client (needed for non-public datasets):\n",
        "# client = Socrata(www.datos.gov.co,\n",
        "#                  MyAppToken,\n",
        "#                  userame=\"user@example.com\",\n",
        "#                  password=\"AFakePassword\")\n",
        "\n",
        "# First 2000 results, returned as JSON from API / converted to Python list of\n",
        "# dictionaries by sodapy.\n",
        "dataset = \"gt2j-8ykr\"\n",
        "count = client.get(dataset,select =\"COUNT(*)\")\n",
        "count = count.pop()\n",
        "limite = count['COUNT']\n",
        "print('Limite: ' + str(limite))\n",
        "\n",
        "results = client.get(dataset, limit = limite)\n",
        "\n",
        "# Convert to pandas DataFrame\n",
        "results_df = pd.DataFrame.from_records(results)"
      ],
      "execution_count": 3,
      "outputs": [
        {
          "output_type": "stream",
          "text": [
            "WARNING:root:Requests made without an app_token will be subject to strict throttling limits.\n"
          ],
          "name": "stderr"
        },
        {
          "output_type": "stream",
          "text": [
            "Limite: 197278\n"
          ],
          "name": "stdout"
        }
      ]
    },
    {
      "cell_type": "markdown",
      "metadata": {
        "id": "bOPIpHWxuZOY",
        "colab_type": "text"
      },
      "source": [
        "Obtiene un sumario de las columnas"
      ]
    },
    {
      "cell_type": "code",
      "metadata": {
        "id": "F3GPB0x3w0NV",
        "colab_type": "code",
        "colab": {
          "base_uri": "https://localhost:8080/",
          "height": 205
        },
        "outputId": "eb4965e8-5023-4f39-b778-21deb79f37e4"
      },
      "source": [
        "#results_df.count()\n",
        "results_df.describe()"
      ],
      "execution_count": 4,
      "outputs": [
        {
          "output_type": "execute_result",
          "data": {
            "text/html": [
              "<div>\n",
              "<style scoped>\n",
              "    .dataframe tbody tr th:only-of-type {\n",
              "        vertical-align: middle;\n",
              "    }\n",
              "\n",
              "    .dataframe tbody tr th {\n",
              "        vertical-align: top;\n",
              "    }\n",
              "\n",
              "    .dataframe thead th {\n",
              "        text-align: right;\n",
              "    }\n",
              "</style>\n",
              "<table border=\"1\" class=\"dataframe\">\n",
              "  <thead>\n",
              "    <tr style=\"text-align: right;\">\n",
              "      <th></th>\n",
              "      <th>id_de_caso</th>\n",
              "      <th>fecha_de_notificaci_n</th>\n",
              "      <th>c_digo_divipola</th>\n",
              "      <th>ciudad_de_ubicaci_n</th>\n",
              "      <th>departamento</th>\n",
              "      <th>atenci_n</th>\n",
              "      <th>edad</th>\n",
              "      <th>sexo</th>\n",
              "      <th>tipo</th>\n",
              "      <th>estado</th>\n",
              "      <th>pa_s_de_procedencia</th>\n",
              "      <th>fis</th>\n",
              "      <th>fecha_diagnostico</th>\n",
              "      <th>fecha_recuperado</th>\n",
              "      <th>fecha_reporte_web</th>\n",
              "      <th>tipo_recuperaci_n</th>\n",
              "      <th>codigo_departamento</th>\n",
              "      <th>codigo_pais</th>\n",
              "      <th>pertenencia_etnica</th>\n",
              "      <th>nombre_grupo_etnico</th>\n",
              "      <th>fecha_de_muerte</th>\n",
              "    </tr>\n",
              "  </thead>\n",
              "  <tbody>\n",
              "    <tr>\n",
              "      <th>count</th>\n",
              "      <td>197278</td>\n",
              "      <td>197278</td>\n",
              "      <td>197278</td>\n",
              "      <td>197278</td>\n",
              "      <td>197278</td>\n",
              "      <td>197278</td>\n",
              "      <td>197278</td>\n",
              "      <td>197278</td>\n",
              "      <td>197278</td>\n",
              "      <td>197278</td>\n",
              "      <td>952</td>\n",
              "      <td>197278</td>\n",
              "      <td>193545</td>\n",
              "      <td>91793</td>\n",
              "      <td>197278</td>\n",
              "      <td>91793</td>\n",
              "      <td>197278</td>\n",
              "      <td>875</td>\n",
              "      <td>85068</td>\n",
              "      <td>2748</td>\n",
              "      <td>6743</td>\n",
              "    </tr>\n",
              "    <tr>\n",
              "      <th>unique</th>\n",
              "      <td>197278</td>\n",
              "      <td>137</td>\n",
              "      <td>788</td>\n",
              "      <td>739</td>\n",
              "      <td>37</td>\n",
              "      <td>6</td>\n",
              "      <td>107</td>\n",
              "      <td>4</td>\n",
              "      <td>3</td>\n",
              "      <td>6</td>\n",
              "      <td>46</td>\n",
              "      <td>144</td>\n",
              "      <td>133</td>\n",
              "      <td>127</td>\n",
              "      <td>133</td>\n",
              "      <td>2</td>\n",
              "      <td>36</td>\n",
              "      <td>39</td>\n",
              "      <td>6</td>\n",
              "      <td>60</td>\n",
              "      <td>120</td>\n",
              "    </tr>\n",
              "    <tr>\n",
              "      <th>top</th>\n",
              "      <td>138221</td>\n",
              "      <td>2020-07-03T00:00:00.000</td>\n",
              "      <td>11001</td>\n",
              "      <td>Bogotá D.C.</td>\n",
              "      <td>Bogotá D.C.</td>\n",
              "      <td>Recuperado</td>\n",
              "      <td>30</td>\n",
              "      <td>M</td>\n",
              "      <td>En estudio</td>\n",
              "      <td>Leve</td>\n",
              "      <td>ESPAÑA</td>\n",
              "      <td>Asintomático</td>\n",
              "      <td>2020-07-14T00:00:00.000</td>\n",
              "      <td>2020-07-19T00:00:00.000</td>\n",
              "      <td>2020-07-17T00:00:00.000</td>\n",
              "      <td>Tiempo</td>\n",
              "      <td>11</td>\n",
              "      <td>724</td>\n",
              "      <td>Otro</td>\n",
              "      <td>Por Definir</td>\n",
              "      <td>2020-07-07T00:00:00.000</td>\n",
              "    </tr>\n",
              "    <tr>\n",
              "      <th>freq</th>\n",
              "      <td>1</td>\n",
              "      <td>6268</td>\n",
              "      <td>63265</td>\n",
              "      <td>63265</td>\n",
              "      <td>63265</td>\n",
              "      <td>91793</td>\n",
              "      <td>5403</td>\n",
              "      <td>105756</td>\n",
              "      <td>178766</td>\n",
              "      <td>151213</td>\n",
              "      <td>264</td>\n",
              "      <td>26308</td>\n",
              "      <td>7551</td>\n",
              "      <td>5004</td>\n",
              "      <td>8934</td>\n",
              "      <td>52073</td>\n",
              "      <td>63265</td>\n",
              "      <td>259</td>\n",
              "      <td>71667</td>\n",
              "      <td>824</td>\n",
              "      <td>179</td>\n",
              "    </tr>\n",
              "  </tbody>\n",
              "</table>\n",
              "</div>"
            ],
            "text/plain": [
              "       id_de_caso  ...          fecha_de_muerte\n",
              "count      197278  ...                     6743\n",
              "unique     197278  ...                      120\n",
              "top        138221  ...  2020-07-07T00:00:00.000\n",
              "freq            1  ...                      179\n",
              "\n",
              "[4 rows x 21 columns]"
            ]
          },
          "metadata": {
            "tags": []
          },
          "execution_count": 4
        }
      ]
    },
    {
      "cell_type": "code",
      "metadata": {
        "id": "bExzqpg1W2F4",
        "colab_type": "code",
        "colab": {
          "base_uri": "https://localhost:8080/",
          "height": 235
        },
        "outputId": "e94cc151-9626-4bbc-cdd8-50f5b170a4ce"
      },
      "source": [
        " #condition = results_df[results_df['estado'] == \"Leve\"]\n",
        " #print(condition.count)\n",
        "import math\n",
        "def truncate(number, digits) -> float:\n",
        "    stepper = 10.0 ** digits\n",
        "    return math.trunc(stepper * number) / stepper\n",
        "\n",
        "total = len(results_df.index)\n",
        "estados = pd.unique(results_df['estado'])\n",
        "\n",
        "for estado in estados:\n",
        "  #print(estado + \": \" + str((results_df.estado == estado).sum())  )\n",
        "  num = (results_df.estado == estado).sum()\n",
        "  per = truncate((num * 100)/total,2)\n",
        "  print('{}: {} {}%'.format(estado,num, per))\n",
        "\n",
        "print(\"Total: \"+ str(total))\n",
        "\n",
        "print('\\n')\n",
        "\n",
        "print(\"Norte de Santander: \"+str((results_df.departamento =='Norte de Santander').sum()))\n",
        "print(\"Barranquilla: \"+str((results_df.departamento =='Barranquilla D.E.').sum()))\n",
        "print(\"Atlantico: \"+str((results_df.departamento == \"Atlantico\").sum()))\n",
        " \n",
        "\n"
      ],
      "execution_count": 41,
      "outputs": [
        {
          "output_type": "stream",
          "text": [
            "Leve: 151213 76.64%\n",
            "Asintomático: 26308 13.33%\n",
            "Fallecido: 6736 3.41%\n",
            "Moderado: 11469 5.81%\n",
            "Grave: 1150 0.58%\n",
            "N/A: 402 0.2%\n",
            "Total: 197278\n",
            "\n",
            "\n",
            "Norte de Santander: 836\n",
            "Barranquilla: 25062\n",
            "Atlantico: 0\n"
          ],
          "name": "stdout"
        }
      ]
    },
    {
      "cell_type": "markdown",
      "metadata": {
        "id": "NzPhSUv8dEM7",
        "colab_type": "text"
      },
      "source": [
        "# Grafica de Estado de los contagiados\n",
        "\n",
        "Se genera una grafica piechart con los estados de los infectados de covid. "
      ]
    },
    {
      "cell_type": "code",
      "metadata": {
        "id": "d4uRsYMpei0b",
        "colab_type": "code",
        "colab": {
          "base_uri": "https://localhost:8080/",
          "height": 684
        },
        "outputId": "0d023407-d95b-4955-fd62-b4810eb1f325"
      },
      "source": [
        "import matplotlib.pyplot as plt\n",
        "import numpy as np\n",
        "\n",
        "def func(label, pct, allvalues): \n",
        "    absolute = pct * 100/np.sum(allvalues)\n",
        "    return \"{}\\n{}%\".format(label, truncate(absolute,2)) \n",
        "\n",
        "explode = (0.0, 0.0, 0.1, 0.1, 0.1, 0.1) \n",
        "labels = pd.unique(results_df['estado'])\n",
        "labels_with_percentage = []\n",
        "\n",
        "estados = []\n",
        "\n",
        "for label in labels:\n",
        "  sum = (results_df.estado == label).sum()\n",
        "  estados.append(sum)\n",
        "\n",
        "for (label, estado) in zip(labels,estados):\n",
        "    labels_with_percentage.append(func(label, estado, estados))\n",
        "\n",
        "fig, ax = plt.subplots(figsize = (10, 7)) \n",
        "\n",
        "ax.pie(estados, explode=explode, labels=labels,  startangle=180)\n",
        "\n",
        "plt.axis('equal') # Try commenting this out.\n",
        "plt.title('Estado Contagiados Covid En Colombia')\n",
        "plt.legend(labels_with_percentage, loc='left center', bbox_to_anchor=(-0.1, 1.),\n",
        "              fontsize=12)\n",
        "\n",
        "plt.show()"
      ],
      "execution_count": 6,
      "outputs": [
        {
          "output_type": "stream",
          "text": [
            "/usr/local/lib/python3.6/dist-packages/ipykernel_launcher.py:28: MatplotlibDeprecationWarning: Unrecognized location 'left center'. Falling back on 'best'; valid locations are\n",
            "\tbest\n",
            "\tupper right\n",
            "\tupper left\n",
            "\tlower left\n",
            "\tlower right\n",
            "\tright\n",
            "\tcenter left\n",
            "\tcenter right\n",
            "\tlower center\n",
            "\tupper center\n",
            "\tcenter\n",
            "This will raise an exception in 3.3.\n"
          ],
          "name": "stderr"
        },
        {
          "output_type": "display_data",
          "data": {
            "image/png": "[encoded data removed]",
            "text/plain": [
              "<Figure size 720x504 with 1 Axes>"
            ]
          },
          "metadata": {
            "tags": []
          }
        }
      ]
    },
    {
      "cell_type": "markdown",
      "metadata": {
        "id": "Uek7Yd5DRcqZ",
        "colab_type": "text"
      },
      "source": [
        "# Fallecidos por Rango de edad"
      ]
    },
    {
      "cell_type": "code",
      "metadata": {
        "id": "uqL6BIfpanTn",
        "colab_type": "code",
        "colab": {
          "base_uri": "https://localhost:8080/",
          "height": 333
        },
        "outputId": "5c1271bf-ea06-48ce-f912-d251556aac71"
      },
      "source": [
        "results_df['edad']=results_df['edad'].astype('int')\n",
        "fallecidos = results_df[results_df.estado == 'Fallecido']\n",
        "\n",
        "bins = [0,10,20,30,40,50,60,70,80,90,100]\n",
        "rangos = fallecidos.groupby(pd.cut(fallecidos['edad'], bins=bins)).edad.count()\n",
        "rangos.plot(kind='bar')"
      ],
      "execution_count": 7,
      "outputs": [
        {
          "output_type": "execute_result",
          "data": {
            "text/plain": [
              "<matplotlib.axes._subplots.AxesSubplot at 0x7fd04b0edf98>"
            ]
          },
          "metadata": {
            "tags": []
          },
          "execution_count": 7
        },
        {
          "output_type": "display_data",
          "data": {
            "image/png": "[encoded data removed]",
            "text/plain": [
              "<Figure size 432x288 with 1 Axes>"
            ]
          },
          "metadata": {
            "tags": [],
            "needs_background": "light"
          }
        }
      ]
    },
    {
      "cell_type": "markdown",
      "metadata": {
        "id": "3EtMaVt8RySF",
        "colab_type": "text"
      },
      "source": [
        "#Buscar porcentaje de fallecimientos por edad\n"
      ]
    },
    {
      "cell_type": "code",
      "metadata": {
        "id": "O9whmYiGHH4b",
        "colab_type": "code",
        "colab": {
          "base_uri": "https://localhost:8080/",
          "height": 35
        },
        "outputId": "f9d251aa-1362-44e9-e567-04aa909b2b77"
      },
      "source": [
        "edad = 22\n",
        "youns = results_df[results_df.edad == edad] \n",
        "\n",
        "total_youns = len(youns.index)\n",
        "\n",
        "deads = (youns.estado == 'Fallecido').sum()\n",
        "\n",
        "print('Las personas infectadas de {} años son {} y los fallecidos {} con un porcentaje de muerte de: {} % '.format(edad,total_youns, deads, (deads*100/\n",
        "                                                                                                                                total_youns)))"
      ],
      "execution_count": 8,
      "outputs": [
        {
          "output_type": "stream",
          "text": [
            "Las personas infectadas de 22 años son 3621 y los fallecidos 6 con un porcentaje de muerte de: 0.16570008285004142 % \n"
          ],
          "name": "stdout"
        }
      ]
    },
    {
      "cell_type": "markdown",
      "metadata": {
        "id": "dHeJfmC6SI76",
        "colab_type": "text"
      },
      "source": [
        "#Fallecidos por departamento"
      ]
    },
    {
      "cell_type": "code",
      "metadata": {
        "id": "96AzzGIDSN8K",
        "colab_type": "code",
        "colab": {
          "base_uri": "https://localhost:8080/",
          "height": 1000
        },
        "outputId": "3c8906ef-da29-4b42-e22f-bed8334c61a1"
      },
      "source": [
        "\n",
        "departamentos = fallecidos.groupby(['departamento']).size().reset_index(name = 'fallecidos')\n",
        "departamentos.plot.bar(x='departamento', y='fallecidos')\n",
        "departamentos = departamentos.sort_values('fallecidos',ascending=False)\n",
        "departamentos['Porcentaje nacional'] = departamentos['fallecidos']*100/(len(fallecidos))\n",
        "departamentos\n"
      ],
      "execution_count": 42,
      "outputs": [
        {
          "output_type": "execute_result",
          "data": {
            "text/html": [
              "<div>\n",
              "<style scoped>\n",
              "    .dataframe tbody tr th:only-of-type {\n",
              "        vertical-align: middle;\n",
              "    }\n",
              "\n",
              "    .dataframe tbody tr th {\n",
              "        vertical-align: top;\n",
              "    }\n",
              "\n",
              "    .dataframe thead th {\n",
              "        text-align: right;\n",
              "    }\n",
              "</style>\n",
              "<table border=\"1\" class=\"dataframe\">\n",
              "  <thead>\n",
              "    <tr style=\"text-align: right;\">\n",
              "      <th></th>\n",
              "      <th>departamento</th>\n",
              "      <th>fallecidos</th>\n",
              "      <th>Porcentaje nacional</th>\n",
              "    </tr>\n",
              "  </thead>\n",
              "  <tbody>\n",
              "    <tr>\n",
              "      <th>4</th>\n",
              "      <td>Bogotá D.C.</td>\n",
              "      <td>1555</td>\n",
              "      <td>23.084917</td>\n",
              "    </tr>\n",
              "    <tr>\n",
              "      <th>3</th>\n",
              "      <td>Barranquilla D.E.</td>\n",
              "      <td>1289</td>\n",
              "      <td>19.135986</td>\n",
              "    </tr>\n",
              "    <tr>\n",
              "      <th>2</th>\n",
              "      <td>Atlántico</td>\n",
              "      <td>887</td>\n",
              "      <td>13.168052</td>\n",
              "    </tr>\n",
              "    <tr>\n",
              "      <th>31</th>\n",
              "      <td>Valle del Cauca</td>\n",
              "      <td>542</td>\n",
              "      <td>8.046318</td>\n",
              "    </tr>\n",
              "    <tr>\n",
              "      <th>10</th>\n",
              "      <td>Cartagena D.T. y C.</td>\n",
              "      <td>419</td>\n",
              "      <td>6.220309</td>\n",
              "    </tr>\n",
              "    <tr>\n",
              "      <th>16</th>\n",
              "      <td>Córdoba</td>\n",
              "      <td>304</td>\n",
              "      <td>4.513064</td>\n",
              "    </tr>\n",
              "    <tr>\n",
              "      <th>29</th>\n",
              "      <td>Sucre</td>\n",
              "      <td>225</td>\n",
              "      <td>3.340261</td>\n",
              "    </tr>\n",
              "    <tr>\n",
              "      <th>1</th>\n",
              "      <td>Antioquia</td>\n",
              "      <td>193</td>\n",
              "      <td>2.865202</td>\n",
              "    </tr>\n",
              "    <tr>\n",
              "      <th>22</th>\n",
              "      <td>Nariño</td>\n",
              "      <td>166</td>\n",
              "      <td>2.464371</td>\n",
              "    </tr>\n",
              "    <tr>\n",
              "      <th>20</th>\n",
              "      <td>Magdalena</td>\n",
              "      <td>162</td>\n",
              "      <td>2.404988</td>\n",
              "    </tr>\n",
              "    <tr>\n",
              "      <th>15</th>\n",
              "      <td>Cundinamarca</td>\n",
              "      <td>130</td>\n",
              "      <td>1.929929</td>\n",
              "    </tr>\n",
              "    <tr>\n",
              "      <th>7</th>\n",
              "      <td>Buenaventura D.E.</td>\n",
              "      <td>126</td>\n",
              "      <td>1.870546</td>\n",
              "    </tr>\n",
              "    <tr>\n",
              "      <th>0</th>\n",
              "      <td>Amazonas</td>\n",
              "      <td>101</td>\n",
              "      <td>1.499406</td>\n",
              "    </tr>\n",
              "    <tr>\n",
              "      <th>27</th>\n",
              "      <td>Santa Marta D.T. y C.</td>\n",
              "      <td>97</td>\n",
              "      <td>1.440024</td>\n",
              "    </tr>\n",
              "    <tr>\n",
              "      <th>5</th>\n",
              "      <td>Bolívar</td>\n",
              "      <td>83</td>\n",
              "      <td>1.232185</td>\n",
              "    </tr>\n",
              "    <tr>\n",
              "      <th>14</th>\n",
              "      <td>Chocó</td>\n",
              "      <td>81</td>\n",
              "      <td>1.202494</td>\n",
              "    </tr>\n",
              "    <tr>\n",
              "      <th>19</th>\n",
              "      <td>La Guajira</td>\n",
              "      <td>79</td>\n",
              "      <td>1.172803</td>\n",
              "    </tr>\n",
              "    <tr>\n",
              "      <th>28</th>\n",
              "      <td>Santander</td>\n",
              "      <td>43</td>\n",
              "      <td>0.638361</td>\n",
              "    </tr>\n",
              "    <tr>\n",
              "      <th>13</th>\n",
              "      <td>Cesar</td>\n",
              "      <td>38</td>\n",
              "      <td>0.564133</td>\n",
              "    </tr>\n",
              "    <tr>\n",
              "      <th>23</th>\n",
              "      <td>Norte de Santander</td>\n",
              "      <td>36</td>\n",
              "      <td>0.534442</td>\n",
              "    </tr>\n",
              "    <tr>\n",
              "      <th>12</th>\n",
              "      <td>Cauca</td>\n",
              "      <td>35</td>\n",
              "      <td>0.519596</td>\n",
              "    </tr>\n",
              "    <tr>\n",
              "      <th>30</th>\n",
              "      <td>Tolima</td>\n",
              "      <td>32</td>\n",
              "      <td>0.475059</td>\n",
              "    </tr>\n",
              "    <tr>\n",
              "      <th>26</th>\n",
              "      <td>Risaralda</td>\n",
              "      <td>21</td>\n",
              "      <td>0.311758</td>\n",
              "    </tr>\n",
              "    <tr>\n",
              "      <th>21</th>\n",
              "      <td>Meta</td>\n",
              "      <td>20</td>\n",
              "      <td>0.296912</td>\n",
              "    </tr>\n",
              "    <tr>\n",
              "      <th>6</th>\n",
              "      <td>Boyacá</td>\n",
              "      <td>20</td>\n",
              "      <td>0.296912</td>\n",
              "    </tr>\n",
              "    <tr>\n",
              "      <th>24</th>\n",
              "      <td>Putumayo</td>\n",
              "      <td>16</td>\n",
              "      <td>0.237530</td>\n",
              "    </tr>\n",
              "    <tr>\n",
              "      <th>18</th>\n",
              "      <td>Huila</td>\n",
              "      <td>15</td>\n",
              "      <td>0.222684</td>\n",
              "    </tr>\n",
              "    <tr>\n",
              "      <th>8</th>\n",
              "      <td>Caldas</td>\n",
              "      <td>7</td>\n",
              "      <td>0.103919</td>\n",
              "    </tr>\n",
              "    <tr>\n",
              "      <th>9</th>\n",
              "      <td>Caquetá</td>\n",
              "      <td>5</td>\n",
              "      <td>0.074228</td>\n",
              "    </tr>\n",
              "    <tr>\n",
              "      <th>25</th>\n",
              "      <td>Quindío</td>\n",
              "      <td>5</td>\n",
              "      <td>0.074228</td>\n",
              "    </tr>\n",
              "    <tr>\n",
              "      <th>11</th>\n",
              "      <td>Casanare</td>\n",
              "      <td>2</td>\n",
              "      <td>0.029691</td>\n",
              "    </tr>\n",
              "    <tr>\n",
              "      <th>17</th>\n",
              "      <td>Guainía</td>\n",
              "      <td>1</td>\n",
              "      <td>0.014846</td>\n",
              "    </tr>\n",
              "    <tr>\n",
              "      <th>32</th>\n",
              "      <td>Vaupés</td>\n",
              "      <td>1</td>\n",
              "      <td>0.014846</td>\n",
              "    </tr>\n",
              "  </tbody>\n",
              "</table>\n",
              "</div>"
            ],
            "text/plain": [
              "             departamento  fallecidos  Porcentaje nacional\n",
              "4             Bogotá D.C.        1555            23.084917\n",
              "3       Barranquilla D.E.        1289            19.135986\n",
              "2               Atlántico         887            13.168052\n",
              "31        Valle del Cauca         542             8.046318\n",
              "10    Cartagena D.T. y C.         419             6.220309\n",
              "16                Córdoba         304             4.513064\n",
              "29                  Sucre         225             3.340261\n",
              "1               Antioquia         193             2.865202\n",
              "22                 Nariño         166             2.464371\n",
              "20              Magdalena         162             2.404988\n",
              "15           Cundinamarca         130             1.929929\n",
              "7       Buenaventura D.E.         126             1.870546\n",
              "0                Amazonas         101             1.499406\n",
              "27  Santa Marta D.T. y C.          97             1.440024\n",
              "5                 Bolívar          83             1.232185\n",
              "14                  Chocó          81             1.202494\n",
              "19             La Guajira          79             1.172803\n",
              "28              Santander          43             0.638361\n",
              "13                  Cesar          38             0.564133\n",
              "23     Norte de Santander          36             0.534442\n",
              "12                  Cauca          35             0.519596\n",
              "30                 Tolima          32             0.475059\n",
              "26              Risaralda          21             0.311758\n",
              "21                   Meta          20             0.296912\n",
              "6                  Boyacá          20             0.296912\n",
              "24               Putumayo          16             0.237530\n",
              "18                  Huila          15             0.222684\n",
              "8                  Caldas           7             0.103919\n",
              "9                 Caquetá           5             0.074228\n",
              "25                Quindío           5             0.074228\n",
              "11               Casanare           2             0.029691\n",
              "17                Guainía           1             0.014846\n",
              "32                 Vaupés           1             0.014846"
            ]
          },
          "metadata": {
            "tags": []
          },
          "execution_count": 42
        },
        {
          "output_type": "display_data",
          "data": {
            "image/png": "[encoded data removed]",
            "text/plain": [
              "<Figure size 432x288 with 1 Axes>"
            ]
          },
          "metadata": {
            "tags": [],
            "needs_background": "light"
          }
        }
      ]
    }
  ]
}
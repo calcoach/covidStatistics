{
  "nbformat": 4,
  "nbformat_minor": 0,
  "metadata": {
    "colab": {
      "name": "Statistics covid2019.ipynb",
      "provenance": [],
      "collapsed_sections": [],
      "authorship_tag": "ABX9TyMhB1NkIqt5XZ7ZMgkLO7xu",
      "include_colab_link": true
    },
    "kernelspec": {
      "name": "python3",
      "display_name": "Python 3"
    }
  },
  "cells": [
    {
      "cell_type": "markdown",
      "metadata": {
        "id": "view-in-github",
        "colab_type": "text"
      },
      "source": [
        "<a href=\"https://colab.research.google.com/github/calcoach/covidStatistics/blob/master/Statistics_covid2019.ipynb\" target=\"_parent\"><img src=\"https://colab.research.google.com/assets/colab-badge.svg\" alt=\"Open In Colab\"/></a>"
      ]
    },
    {
      "cell_type": "markdown",
      "metadata": {
        "id": "jOXmCsTVZMPu",
        "colab_type": "text"
      },
      "source": [
        "# Estadisticas Covid19 Colombia\n",
        "\n",
        "\n",
        "#Instalar sodapy\n"
      ]
    },
    {
      "cell_type": "code",
      "metadata": {
        "id": "3Df_QnjZTif0",
        "colab_type": "code",
        "colab": {
          "base_uri": "https://localhost:8080/",
          "height": 201
        },
        "outputId": "de31ad40-1d0b-4172-d1fc-1d282d3e642a"
      },
      "source": [
        "!pip install sodapy"
      ],
      "execution_count": 2,
      "outputs": [
        {
          "output_type": "stream",
          "text": [
            "Collecting sodapy\n",
            "  Downloading https://files.pythonhosted.org/packages/9e/74/95fb7d45bbe7f1de43caac45d7dd4807ef1e15881564a00eef489a3bb5c6/sodapy-2.1.0-py2.py3-none-any.whl\n",
            "Requirement already satisfied: requests>=2.20.0 in /usr/local/lib/python3.6/dist-packages (from sodapy) (2.23.0)\n",
            "Requirement already satisfied: certifi>=2017.4.17 in /usr/local/lib/python3.6/dist-packages (from requests>=2.20.0->sodapy) (2020.6.20)\n",
            "Requirement already satisfied: chardet<4,>=3.0.2 in /usr/local/lib/python3.6/dist-packages (from requests>=2.20.0->sodapy) (3.0.4)\n",
            "Requirement already satisfied: idna<3,>=2.5 in /usr/local/lib/python3.6/dist-packages (from requests>=2.20.0->sodapy) (2.10)\n",
            "Requirement already satisfied: urllib3!=1.25.0,!=1.25.1,<1.26,>=1.21.1 in /usr/local/lib/python3.6/dist-packages (from requests>=2.20.0->sodapy) (1.24.3)\n",
            "Installing collected packages: sodapy\n",
            "Successfully installed sodapy-2.1.0\n"
          ],
          "name": "stdout"
        }
      ]
    },
    {
      "cell_type": "markdown",
      "metadata": {
        "id": "z10cIIk7tlPm",
        "colab_type": "text"
      },
      "source": [
        "#Obtener JSON con la data\n",
        "\n",
        "Llama a la api de datos.gov con el json de datos de casos positivos covid19 \n",
        "\n"
      ]
    },
    {
      "cell_type": "code",
      "metadata": {
        "id": "ZvTgvV2GSmhV",
        "colab_type": "code",
        "colab": {
          "base_uri": "https://localhost:8080/",
          "height": 54
        },
        "outputId": "af26f7a8-2847-4f84-a899-16b652525cd3"
      },
      "source": [
        "\n",
        "import pandas as pd\n",
        "from sodapy import Socrata\n",
        "\n",
        "# Unauthenticated client only works with public data sets. Note 'None'\n",
        "# in place of application token, and no username or password:\n",
        "client = Socrata(\"www.datos.gov.co\", None)\n",
        "\n",
        "# Example authenticated client (needed for non-public datasets):\n",
        "# client = Socrata(www.datos.gov.co,\n",
        "#                  MyAppToken,\n",
        "#                  userame=\"user@example.com\",\n",
        "#                  password=\"AFakePassword\")\n",
        "\n",
        "# First 2000 results, returned as JSON from API / converted to Python list of\n",
        "# dictionaries by sodapy.\n",
        "dataset = \"gt2j-8ykr\"\n",
        "count = client.get(dataset,select =\"COUNT(*)\")\n",
        "count = count.pop()\n",
        "limite = count['COUNT']\n",
        "print('Limite: ' + str(limite))\n",
        "\n",
        "results = client.get(dataset, limit = limite)\n",
        "\n",
        "# Convert to pandas DataFrame\n",
        "results_df = pd.DataFrame.from_records(results)"
      ],
      "execution_count": 3,
      "outputs": [
        {
          "output_type": "stream",
          "text": [
            "WARNING:root:Requests made without an app_token will be subject to strict throttling limits.\n"
          ],
          "name": "stderr"
        },
        {
          "output_type": "stream",
          "text": [
            "Limite: 276055\n"
          ],
          "name": "stdout"
        }
      ]
    },
    {
      "cell_type": "markdown",
      "metadata": {
        "id": "bOPIpHWxuZOY",
        "colab_type": "text"
      },
      "source": [
        "Obtiene un sumario de las columnas"
      ]
    },
    {
      "cell_type": "code",
      "metadata": {
        "id": "F3GPB0x3w0NV",
        "colab_type": "code",
        "colab": {
          "base_uri": "https://localhost:8080/",
          "height": 205
        },
        "outputId": "8c0339fd-6099-4acf-8fea-c2ceb232079d"
      },
      "source": [
        "#results_df.count()\n",
        "results_df.describe()"
      ],
      "execution_count": 4,
      "outputs": [
        {
          "output_type": "execute_result",
          "data": {
            "text/html": [
              "<div>\n",
              "<style scoped>\n",
              "    .dataframe tbody tr th:only-of-type {\n",
              "        vertical-align: middle;\n",
              "    }\n",
              "\n",
              "    .dataframe tbody tr th {\n",
              "        vertical-align: top;\n",
              "    }\n",
              "\n",
              "    .dataframe thead th {\n",
              "        text-align: right;\n",
              "    }\n",
              "</style>\n",
              "<table border=\"1\" class=\"dataframe\">\n",
              "  <thead>\n",
              "    <tr style=\"text-align: right;\">\n",
              "      <th></th>\n",
              "      <th>id_de_caso</th>\n",
              "      <th>fecha_de_notificaci_n</th>\n",
              "      <th>c_digo_divipola</th>\n",
              "      <th>ciudad_de_ubicaci_n</th>\n",
              "      <th>departamento</th>\n",
              "      <th>atenci_n</th>\n",
              "      <th>edad</th>\n",
              "      <th>sexo</th>\n",
              "      <th>tipo</th>\n",
              "      <th>estado</th>\n",
              "      <th>pa_s_de_procedencia</th>\n",
              "      <th>fis</th>\n",
              "      <th>fecha_diagnostico</th>\n",
              "      <th>fecha_recuperado</th>\n",
              "      <th>fecha_reporte_web</th>\n",
              "      <th>tipo_recuperaci_n</th>\n",
              "      <th>codigo_departamento</th>\n",
              "      <th>codigo_pais</th>\n",
              "      <th>pertenencia_etnica</th>\n",
              "      <th>nombre_grupo_etnico</th>\n",
              "      <th>fecha_de_muerte</th>\n",
              "    </tr>\n",
              "  </thead>\n",
              "  <tbody>\n",
              "    <tr>\n",
              "      <th>count</th>\n",
              "      <td>276055</td>\n",
              "      <td>276055</td>\n",
              "      <td>276055</td>\n",
              "      <td>276055</td>\n",
              "      <td>276055</td>\n",
              "      <td>276055</td>\n",
              "      <td>276055</td>\n",
              "      <td>276055</td>\n",
              "      <td>276055</td>\n",
              "      <td>276055</td>\n",
              "      <td>956</td>\n",
              "      <td>276055</td>\n",
              "      <td>272273</td>\n",
              "      <td>142781</td>\n",
              "      <td>276055</td>\n",
              "      <td>142777</td>\n",
              "      <td>276055</td>\n",
              "      <td>892</td>\n",
              "      <td>85068</td>\n",
              "      <td>2748</td>\n",
              "      <td>9861</td>\n",
              "    </tr>\n",
              "    <tr>\n",
              "      <th>unique</th>\n",
              "      <td>276055</td>\n",
              "      <td>160</td>\n",
              "      <td>863</td>\n",
              "      <td>806</td>\n",
              "      <td>37</td>\n",
              "      <td>7</td>\n",
              "      <td>110</td>\n",
              "      <td>4</td>\n",
              "      <td>5</td>\n",
              "      <td>8</td>\n",
              "      <td>46</td>\n",
              "      <td>177</td>\n",
              "      <td>176</td>\n",
              "      <td>137</td>\n",
              "      <td>143</td>\n",
              "      <td>2</td>\n",
              "      <td>33</td>\n",
              "      <td>39</td>\n",
              "      <td>6</td>\n",
              "      <td>60</td>\n",
              "      <td>131</td>\n",
              "    </tr>\n",
              "    <tr>\n",
              "      <th>top</th>\n",
              "      <td>123487</td>\n",
              "      <td>2020-07-13T00:00:00.000</td>\n",
              "      <td>11001</td>\n",
              "      <td>Bogotá D.C.</td>\n",
              "      <td>Bogotá D.C.</td>\n",
              "      <td>Recuperado</td>\n",
              "      <td>30</td>\n",
              "      <td>M</td>\n",
              "      <td>En estudio</td>\n",
              "      <td>Leve</td>\n",
              "      <td>ESPAÑA</td>\n",
              "      <td>Asintomático</td>\n",
              "      <td>2020-07-28T00:00:00.000</td>\n",
              "      <td>2020-07-27T00:00:00.000</td>\n",
              "      <td>2020-07-28T00:00:00.000</td>\n",
              "      <td>Tiempo</td>\n",
              "      <td>11</td>\n",
              "      <td>724</td>\n",
              "      <td>Otro</td>\n",
              "      <td>Por Definir</td>\n",
              "      <td>2020-07-17T00:00:00.000</td>\n",
              "    </tr>\n",
              "    <tr>\n",
              "      <th>freq</th>\n",
              "      <td>1</td>\n",
              "      <td>7420</td>\n",
              "      <td>95199</td>\n",
              "      <td>95199</td>\n",
              "      <td>95199</td>\n",
              "      <td>142777</td>\n",
              "      <td>7474</td>\n",
              "      <td>147273</td>\n",
              "      <td>255381</td>\n",
              "      <td>215167</td>\n",
              "      <td>265</td>\n",
              "      <td>34013</td>\n",
              "      <td>10948</td>\n",
              "      <td>7396</td>\n",
              "      <td>10284</td>\n",
              "      <td>84454</td>\n",
              "      <td>95199</td>\n",
              "      <td>260</td>\n",
              "      <td>71667</td>\n",
              "      <td>824</td>\n",
              "      <td>254</td>\n",
              "    </tr>\n",
              "  </tbody>\n",
              "</table>\n",
              "</div>"
            ],
            "text/plain": [
              "       id_de_caso  ...          fecha_de_muerte\n",
              "count      276055  ...                     9861\n",
              "unique     276055  ...                      131\n",
              "top        123487  ...  2020-07-17T00:00:00.000\n",
              "freq            1  ...                      254\n",
              "\n",
              "[4 rows x 21 columns]"
            ]
          },
          "metadata": {
            "tags": []
          },
          "execution_count": 4
        }
      ]
    },
    {
      "cell_type": "code",
      "metadata": {
        "id": "bExzqpg1W2F4",
        "colab_type": "code",
        "colab": {
          "base_uri": "https://localhost:8080/",
          "height": 272
        },
        "outputId": "49dc8e71-f118-4c9f-eedf-1076245af43b"
      },
      "source": [
        " #condition = results_df[results_df['estado'] == \"Leve\"]\n",
        " #print(condition.count)\n",
        "import math\n",
        "def truncate(number, digits) -> float:\n",
        "    stepper = 10.0 ** digits\n",
        "    return math.trunc(stepper * number) / stepper\n",
        "\n",
        "total = len(results_df.index)\n",
        "estados = pd.unique(results_df['estado'])\n",
        "\n",
        "for estado in estados:\n",
        "  #print(estado + \": \" + str((results_df.estado == estado).sum())  )\n",
        "  num = (results_df.estado == estado).sum()\n",
        "  per = truncate((num * 100)/total,2)\n",
        "  print('{}: {} {}%'.format(estado,num, per))\n",
        "\n",
        "print(\"Total: \"+ str(total))\n",
        "\n",
        "print('\\n')\n",
        "\n",
        "print(\"Norte de Santander: \"+str((results_df.departamento =='Norte de Santander').sum()))\n",
        "print(\"Barranquilla: \"+str((results_df.departamento =='Barranquilla D.E.').sum()))\n",
        "print(\"Atlantico: \"+str((results_df.departamento == \"Atlantico\").sum()))\n",
        " \n",
        "\n"
      ],
      "execution_count": 5,
      "outputs": [
        {
          "output_type": "stream",
          "text": [
            "Leve: 215167 77.94%\n",
            "Asintomático: 34013 12.32%\n",
            "Fallecido: 9454 3.42%\n",
            "Moderado: 15259 5.52%\n",
            "Grave: 1550 0.56%\n",
            "N/A: 594 0.21%\n",
            "LEVE: 17 0.0%\n",
            "GRAVE: 1 0.0%\n",
            "Total: 276055\n",
            "\n",
            "\n",
            "Norte de Santander: 2031\n",
            "Barranquilla: 28940\n",
            "Atlantico: 0\n"
          ],
          "name": "stdout"
        }
      ]
    },
    {
      "cell_type": "markdown",
      "metadata": {
        "id": "NzPhSUv8dEM7",
        "colab_type": "text"
      },
      "source": [
        "# Grafica de Estado de los contagiados\n",
        "\n",
        "Se genera una grafica piechart con los estados de los infectados de covid. "
      ]
    },
    {
      "cell_type": "code",
      "metadata": {
        "id": "d4uRsYMpei0b",
        "colab_type": "code",
        "colab": {
          "base_uri": "https://localhost:8080/",
          "height": 684
        },
        "outputId": "0b935b6f-a2b2-46bf-9b9d-fae4e6e921a9"
      },
      "source": [
        "import matplotlib.pyplot as plt\n",
        "import numpy as np\n",
        "\n",
        "def func(label, pct, allvalues): \n",
        "    absolute = pct * 100/np.sum(allvalues)\n",
        "    return \"{}\\n{}%\".format(label, truncate(absolute,2)) \n",
        "\n",
        "\n",
        "labels = pd.unique(results_df['estado'])\n",
        "labels_with_percentage = []\n",
        "\n",
        "estados = []\n",
        "\n",
        "for label in labels:\n",
        "  sum = (results_df.estado == label).sum()\n",
        "  estados.append(sum)\n",
        "\n",
        "labels2 = np.array([])\n",
        "estados2 = []\n",
        "\n",
        "#reemplace repetitive elements\n",
        "for (i,j) in zip(labels, estados):\n",
        "  x = 0\n",
        "  bool = False\n",
        "  for (h,k)  in zip(labels2, estados2):\n",
        "      if i.lower() == h.lower():\n",
        "          estados2[x] = estados2[x] + k\n",
        "          bool=True\n",
        "      x = x+1    \n",
        "\n",
        "  if bool==False:\n",
        "    labels2 = np.append(labels2,i)\n",
        "    estados2.append(j) \n",
        "\n",
        "\n",
        "for (label, estado) in zip(labels,estados):\n",
        "    labels_with_percentage.append(func(label, estado, estados))\n",
        "\n",
        "fig, ax = plt.subplots(figsize = (10, 7)) \n",
        "\n",
        "ax.pie(estados2,  labels=labels2,  startangle=180)\n",
        "\n",
        "plt.axis('equal') # Try commenting this out.\n",
        "plt.title('Estado Contagiados Covid En Colombia')\n",
        "plt.legend(labels_with_percentage, loc='left center', bbox_to_anchor=(-0.1, 1.),\n",
        "              fontsize=12)\n",
        "\n",
        "plt.show()"
      ],
      "execution_count": 31,
      "outputs": [
        {
          "output_type": "stream",
          "text": [
            "/usr/local/lib/python3.6/dist-packages/ipykernel_launcher.py:46: MatplotlibDeprecationWarning: Unrecognized location 'left center'. Falling back on 'best'; valid locations are\n",
            "\tbest\n",
            "\tupper right\n",
            "\tupper left\n",
            "\tlower left\n",
            "\tlower right\n",
            "\tright\n",
            "\tcenter left\n",
            "\tcenter right\n",
            "\tlower center\n",
            "\tupper center\n",
            "\tcenter\n",
            "This will raise an exception in 3.3.\n"
          ],
          "name": "stderr"
        },
        {
          "output_type": "display_data",
          "data": {
            "image/png": "[encoded data removed]",
            "text/plain": [
              "<Figure size 720x504 with 1 Axes>"
            ]
          },
          "metadata": {
            "tags": []
          }
        }
      ]
    },
    {
      "cell_type": "markdown",
      "metadata": {
        "id": "Uek7Yd5DRcqZ",
        "colab_type": "text"
      },
      "source": [
        "# Fallecidos por Rango de edad"
      ]
    },
    {
      "cell_type": "code",
      "metadata": {
        "id": "uqL6BIfpanTn",
        "colab_type": "code",
        "colab": {}
      },
      "source": [
        "results_df['edad']=results_df['edad'].astype('int')\n",
        "fallecidos = results_df[results_df.estado == 'Fallecido']\n",
        "\n",
        "bins = [0,10,20,30,40,50,60,70,80,90,100]\n",
        "rangos = fallecidos.groupby(pd.cut(fallecidos['edad'], bins=bins)).edad.count()\n",
        "rangos.plot(kind='bar')"
      ],
      "execution_count": null,
      "outputs": []
    },
    {
      "cell_type": "markdown",
      "metadata": {
        "id": "3EtMaVt8RySF",
        "colab_type": "text"
      },
      "source": [
        "#Buscar porcentaje de fallecimientos por edad\n"
      ]
    },
    {
      "cell_type": "code",
      "metadata": {
        "id": "O9whmYiGHH4b",
        "colab_type": "code",
        "colab": {}
      },
      "source": [
        "edad = 22\n",
        "youns = results_df[results_df.edad == edad] \n",
        "\n",
        "total_youns = len(youns.index)\n",
        "\n",
        "deads = (youns.estado == 'Fallecido').sum()\n",
        "\n",
        "print('Las personas infectadas de {} años son {} y los fallecidos {} con un porcentaje de muerte de: {} % '.format(edad,total_youns, deads, (deads*100/\n",
        "                                                                                                                                total_youns)))"
      ],
      "execution_count": null,
      "outputs": []
    },
    {
      "cell_type": "markdown",
      "metadata": {
        "id": "dHeJfmC6SI76",
        "colab_type": "text"
      },
      "source": [
        "#Fallecidos por departamento"
      ]
    },
    {
      "cell_type": "code",
      "metadata": {
        "id": "96AzzGIDSN8K",
        "colab_type": "code",
        "colab": {}
      },
      "source": [
        "contagiados = results_df.groupby(['departamento']).size().reset_index(name = \"contagiados\")\n",
        "\n",
        "departamentos = fallecidos.groupby(['departamento']).size().reset_index(name = \"fallecidos\")\n",
        "\n",
        "#print(departamentos)\n",
        "\n",
        "#departamentos.plot.bar(x='departamento', y='fallecidos')\n",
        "\n",
        "#contagiados['fallecidos'] = departamentos['fallecidos']\n",
        "departamentos['% fallecidos nacional'] = departamentos['fallecidos']*100/(len(fallecidos))\n",
        "\n",
        "contagiados = pd.merge(contagiados, departamentos, on='departamento', how='outer')\n",
        "contagiados = contagiados.sort_values('contagiados',ascending=False)\n",
        "\n",
        "#adjust index\n",
        "contagiados.index = range(contagiados.shape[0])\n",
        "#index satrt in 1\n",
        "contagiados.index +=1\n",
        "\n",
        "print(len(contagiados))\n",
        "contagiados\n",
        "\n",
        "\n"
      ],
      "execution_count": null,
      "outputs": []
    }
  ]
}